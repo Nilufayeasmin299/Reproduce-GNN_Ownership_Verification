{
  "nbformat": 4,
  "nbformat_minor": 0,
  "metadata": {
    "colab": {
      "provenance": [],
      "gpuType": "T4",
      "authorship_tag": "ABX9TyMJ9vRYezqxmhVETpbvQGaf",
      "include_colab_link": true
    },
    "kernelspec": {
      "name": "python3",
      "display_name": "Python 3"
    },
    "language_info": {
      "name": "python"
    },
    "accelerator": "GPU"
  },
  "cells": [
    {
      "cell_type": "markdown",
      "metadata": {
        "id": "view-in-github",
        "colab_type": "text"
      },
      "source": [
        "<a href=\"https://colab.research.google.com/github/Nilufayeasmin299/Reproduce-GNN_Ownership_Verification/blob/main/GNN_ownership_using_Amazon.ipynb\" target=\"_parent\"><img src=\"https://colab.research.google.com/assets/colab-badge.svg\" alt=\"Open In Colab\"/></a>"
      ]
    },
    {
      "cell_type": "code",
      "execution_count": 1,
      "metadata": {
        "colab": {
          "base_uri": "https://localhost:8080/",
          "height": 1000
        },
        "id": "7WkgbZx3MgB5",
        "outputId": "69d94768-7b2c-4287-c7e4-81ce62a0c8ee"
      },
      "outputs": [
        {
          "output_type": "stream",
          "name": "stdout",
          "text": [
            "Looking in indexes: https://download.pytorch.org/whl/cu118\n",
            "Requirement already satisfied: torch in /usr/local/lib/python3.10/dist-packages (2.5.1+cu121)\n",
            "Requirement already satisfied: torchvision in /usr/local/lib/python3.10/dist-packages (0.20.1+cu121)\n",
            "Requirement already satisfied: torchaudio in /usr/local/lib/python3.10/dist-packages (2.5.1+cu121)\n",
            "Requirement already satisfied: filelock in /usr/local/lib/python3.10/dist-packages (from torch) (3.16.1)\n",
            "Requirement already satisfied: typing-extensions>=4.8.0 in /usr/local/lib/python3.10/dist-packages (from torch) (4.12.2)\n",
            "Requirement already satisfied: networkx in /usr/local/lib/python3.10/dist-packages (from torch) (3.4.2)\n",
            "Requirement already satisfied: jinja2 in /usr/local/lib/python3.10/dist-packages (from torch) (3.1.4)\n",
            "Requirement already satisfied: fsspec in /usr/local/lib/python3.10/dist-packages (from torch) (2024.10.0)\n",
            "Requirement already satisfied: sympy==1.13.1 in /usr/local/lib/python3.10/dist-packages (from torch) (1.13.1)\n",
            "Requirement already satisfied: mpmath<1.4,>=1.1.0 in /usr/local/lib/python3.10/dist-packages (from sympy==1.13.1->torch) (1.3.0)\n",
            "Requirement already satisfied: numpy in /usr/local/lib/python3.10/dist-packages (from torchvision) (1.26.4)\n",
            "Requirement already satisfied: pillow!=8.3.*,>=5.3.0 in /usr/local/lib/python3.10/dist-packages (from torchvision) (11.0.0)\n",
            "Requirement already satisfied: MarkupSafe>=2.0 in /usr/local/lib/python3.10/dist-packages (from jinja2->torch) (3.0.2)\n",
            "Collecting torch_geometric\n",
            "  Downloading torch_geometric-2.6.1-py3-none-any.whl.metadata (63 kB)\n",
            "\u001b[2K     \u001b[90m━━━━━━━━━━━━━━━━━━━━━━━━━━━━━━━━━━━━━━━━\u001b[0m \u001b[32m63.1/63.1 kB\u001b[0m \u001b[31m2.5 MB/s\u001b[0m eta \u001b[36m0:00:00\u001b[0m\n",
            "\u001b[?25hRequirement already satisfied: aiohttp in /usr/local/lib/python3.10/dist-packages (from torch_geometric) (3.11.2)\n",
            "Requirement already satisfied: fsspec in /usr/local/lib/python3.10/dist-packages (from torch_geometric) (2024.10.0)\n",
            "Requirement already satisfied: jinja2 in /usr/local/lib/python3.10/dist-packages (from torch_geometric) (3.1.4)\n",
            "Requirement already satisfied: numpy in /usr/local/lib/python3.10/dist-packages (from torch_geometric) (1.26.4)\n",
            "Requirement already satisfied: psutil>=5.8.0 in /usr/local/lib/python3.10/dist-packages (from torch_geometric) (5.9.5)\n",
            "Requirement already satisfied: pyparsing in /usr/local/lib/python3.10/dist-packages (from torch_geometric) (3.2.0)\n",
            "Requirement already satisfied: requests in /usr/local/lib/python3.10/dist-packages (from torch_geometric) (2.32.3)\n",
            "Requirement already satisfied: tqdm in /usr/local/lib/python3.10/dist-packages (from torch_geometric) (4.66.6)\n",
            "Requirement already satisfied: aiohappyeyeballs>=2.3.0 in /usr/local/lib/python3.10/dist-packages (from aiohttp->torch_geometric) (2.4.3)\n",
            "Requirement already satisfied: aiosignal>=1.1.2 in /usr/local/lib/python3.10/dist-packages (from aiohttp->torch_geometric) (1.3.1)\n",
            "Requirement already satisfied: attrs>=17.3.0 in /usr/local/lib/python3.10/dist-packages (from aiohttp->torch_geometric) (24.2.0)\n",
            "Requirement already satisfied: frozenlist>=1.1.1 in /usr/local/lib/python3.10/dist-packages (from aiohttp->torch_geometric) (1.5.0)\n",
            "Requirement already satisfied: multidict<7.0,>=4.5 in /usr/local/lib/python3.10/dist-packages (from aiohttp->torch_geometric) (6.1.0)\n",
            "Requirement already satisfied: propcache>=0.2.0 in /usr/local/lib/python3.10/dist-packages (from aiohttp->torch_geometric) (0.2.0)\n",
            "Requirement already satisfied: yarl<2.0,>=1.17.0 in /usr/local/lib/python3.10/dist-packages (from aiohttp->torch_geometric) (1.17.2)\n",
            "Requirement already satisfied: async-timeout<6.0,>=4.0 in /usr/local/lib/python3.10/dist-packages (from aiohttp->torch_geometric) (4.0.3)\n",
            "Requirement already satisfied: MarkupSafe>=2.0 in /usr/local/lib/python3.10/dist-packages (from jinja2->torch_geometric) (3.0.2)\n",
            "Requirement already satisfied: charset-normalizer<4,>=2 in /usr/local/lib/python3.10/dist-packages (from requests->torch_geometric) (3.4.0)\n",
            "Requirement already satisfied: idna<4,>=2.5 in /usr/local/lib/python3.10/dist-packages (from requests->torch_geometric) (3.10)\n",
            "Requirement already satisfied: urllib3<3,>=1.21.1 in /usr/local/lib/python3.10/dist-packages (from requests->torch_geometric) (2.2.3)\n",
            "Requirement already satisfied: certifi>=2017.4.17 in /usr/local/lib/python3.10/dist-packages (from requests->torch_geometric) (2024.8.30)\n",
            "Requirement already satisfied: typing-extensions>=4.1.0 in /usr/local/lib/python3.10/dist-packages (from multidict<7.0,>=4.5->aiohttp->torch_geometric) (4.12.2)\n",
            "Downloading torch_geometric-2.6.1-py3-none-any.whl (1.1 MB)\n",
            "\u001b[2K   \u001b[90m━━━━━━━━━━━━━━━━━━━━━━━━━━━━━━━━━━━━━━━━\u001b[0m \u001b[32m1.1/1.1 MB\u001b[0m \u001b[31m28.4 MB/s\u001b[0m eta \u001b[36m0:00:00\u001b[0m\n",
            "\u001b[?25hInstalling collected packages: torch_geometric\n",
            "Successfully installed torch_geometric-2.6.1\n",
            "Requirement already satisfied: numpy in /usr/local/lib/python3.10/dist-packages (1.26.4)\n",
            "Requirement already satisfied: scikit-learn in /usr/local/lib/python3.10/dist-packages (1.5.2)\n",
            "Requirement already satisfied: tqdm in /usr/local/lib/python3.10/dist-packages (4.66.6)\n",
            "Requirement already satisfied: pyyaml in /usr/local/lib/python3.10/dist-packages (6.0.2)\n",
            "Collecting argparse\n",
            "  Downloading argparse-1.4.0-py2.py3-none-any.whl.metadata (2.8 kB)\n",
            "Requirement already satisfied: scipy>=1.6.0 in /usr/local/lib/python3.10/dist-packages (from scikit-learn) (1.13.1)\n",
            "Requirement already satisfied: joblib>=1.2.0 in /usr/local/lib/python3.10/dist-packages (from scikit-learn) (1.4.2)\n",
            "Requirement already satisfied: threadpoolctl>=3.1.0 in /usr/local/lib/python3.10/dist-packages (from scikit-learn) (3.5.0)\n",
            "Downloading argparse-1.4.0-py2.py3-none-any.whl (23 kB)\n",
            "Installing collected packages: argparse\n",
            "Successfully installed argparse-1.4.0\n"
          ]
        },
        {
          "output_type": "display_data",
          "data": {
            "application/vnd.colab-display-data+json": {
              "pip_warning": {
                "packages": [
                  "argparse"
                ]
              },
              "id": "fdde7c58e7514327b7c9ea67f93bbf26"
            }
          },
          "metadata": {}
        }
      ],
      "source": [
        "# Step 1: Install Required Libraries\n",
        "!pip install torch torchvision torchaudio --index-url https://download.pytorch.org/whl/cu118\n",
        "!pip install torch_geometric\n",
        "!pip install numpy scikit-learn tqdm pyyaml argparse"
      ]
    },
    {
      "cell_type": "code",
      "source": [
        "import torch\n",
        "import numpy as np\n",
        "from torch_geometric.datasets import Amazon\n",
        "from torch_geometric.nn import GCNConv, GATConv\n",
        "from sklearn.ensemble import RandomForestClassifier\n",
        "from sklearn.metrics import accuracy_score, confusion_matrix\n",
        "from sklearn.model_selection import train_test_split\n",
        "from tqdm import tqdm\n",
        "\n",
        "# Configuration\n",
        "config = {\n",
        "    'dataset': 'Amazon',  # Dataset name\n",
        "    'dataset_type': 'Computers',  # Subset of the Amazon dataset\n",
        "    'model_type': 'gat',  # Model type: gcn, gat, sage, GIN, SGC\n",
        "    'hidden_dims': [352, 256],  # Hidden layer dimensions\n",
        "    'embedding_dim': 128,  # Embedding dimension\n",
        "    'epochs': 100,  # Number of training epochs\n",
        "    'learning_rate': 0.01,  # Learning rate for optimization\n",
        "    'mask_ratio': 0.2,  # Ratio of features to mask\n",
        "    'device': 'cuda' if torch.cuda.is_available() else 'cpu',\n",
        "    'n_runs': 3,  # Number of runs for robust evaluation\n",
        "    'seed': 42,  # Random seed for reproducibility\n",
        "}"
      ],
      "metadata": {
        "id": "uP0b2HtGNOij"
      },
      "execution_count": 2,
      "outputs": []
    },
    {
      "cell_type": "code",
      "source": [
        "# Step 3: Set Random Seeds\n",
        "def set_random_seeds(seed):\n",
        "    \"\"\"Set random seeds for reproducibility.\"\"\"\n",
        "    torch.manual_seed(seed)\n",
        "    np.random.seed(seed)\n",
        "    if config['device'] == 'cuda':\n",
        "        torch.cuda.manual_seed_all(seed)\n",
        "\n",
        "set_random_seeds(config['seed'])"
      ],
      "metadata": {
        "id": "LCpR1ItmNdcc"
      },
      "execution_count": 3,
      "outputs": []
    },
    {
      "cell_type": "code",
      "source": [
        "# Step 4: Feature Masking\n",
        "def mask_features(data, mask_ratio):\n",
        "    \"\"\"Mask a subset of node features to enrich model fingerprinting.\"\"\"\n",
        "    num_features = data.x.shape[1]\n",
        "    mask = np.random.choice([0, 1], size=num_features, p=[mask_ratio, 1 - mask_ratio])\n",
        "    data.x = data.x * torch.tensor(mask, dtype=torch.float32, device=config['device'])\n",
        "    return data"
      ],
      "metadata": {
        "id": "gIpCupjyNhdG"
      },
      "execution_count": 4,
      "outputs": []
    },
    {
      "cell_type": "code",
      "source": [
        "# Step 5: GNN Model\n",
        "class GNNModel(torch.nn.Module):\n",
        "    def __init__(self, input_dim, hidden_dims, output_dim, model_type='gat'):\n",
        "        super(GNNModel, self).__init__()\n",
        "        if model_type == 'gcn':\n",
        "            self.conv1 = GCNConv(input_dim, hidden_dims[0])\n",
        "            self.conv2 = GCNConv(hidden_dims[0], hidden_dims[1])\n",
        "        elif model_type == 'gat':\n",
        "            self.conv1 = GATConv(input_dim, hidden_dims[0])\n",
        "            self.conv2 = GATConv(hidden_dims[0], hidden_dims[1])\n",
        "        else:\n",
        "            raise ValueError(f\"Unsupported model type: {model_type}\")\n",
        "        self.fc = torch.nn.Linear(hidden_dims[1], output_dim)\n",
        "\n",
        "    def forward(self, data):\n",
        "        x, edge_index = data.x, data.edge_index\n",
        "        x = torch.relu(self.conv1(x, edge_index))\n",
        "        x = torch.relu(self.conv2(x, edge_index))\n",
        "        x = self.fc(x)\n",
        "        return torch.log_softmax(x, dim=1)"
      ],
      "metadata": {
        "id": "sheYJXlBNkC1"
      },
      "execution_count": 5,
      "outputs": []
    },
    {
      "cell_type": "code",
      "source": [
        "# Step 6: Train and Evaluate Functions\n",
        "def train_model(model, data, optimizer, criterion, epochs):\n",
        "    \"\"\"Train the GNN model with progress tracking.\"\"\"\n",
        "    model.train()\n",
        "    for epoch in tqdm(range(epochs), desc=\"Training\"):\n",
        "        optimizer.zero_grad()\n",
        "        out = model(data)\n",
        "        loss = criterion(out[data.train_mask], data.y[data.train_mask])\n",
        "        loss.backward()\n",
        "        optimizer.step()\n",
        "\n",
        "def evaluate_model(model, data):\n",
        "    \"\"\"Evaluate model accuracy on the test set.\"\"\"\n",
        "    model.eval()\n",
        "    out = model(data)\n",
        "    pred = out.argmax(dim=1)\n",
        "    return accuracy_score(data.y[data.test_mask].cpu(), pred[data.test_mask].cpu())"
      ],
      "metadata": {
        "id": "8qDSnGFDNnvu"
      },
      "execution_count": 6,
      "outputs": []
    },
    {
      "cell_type": "code",
      "source": [
        "# Step 7: Ownership Verification\n",
        "def evaluate_ownership(target_model, shadow_model, data):\n",
        "    \"\"\"Train and evaluate the ownership verification classifier.\"\"\"\n",
        "    target_model.eval()\n",
        "    shadow_model.eval()\n",
        "\n",
        "    # Extract embeddings\n",
        "    target_embeddings = target_model(data).detach().cpu().numpy()\n",
        "    shadow_embeddings = shadow_model(data).detach().cpu().numpy()\n",
        "\n",
        "    # Prepare data for classifier\n",
        "    X = np.vstack([target_embeddings, shadow_embeddings])\n",
        "    y = np.array([1] * len(target_embeddings) + [0] * len(shadow_embeddings))\n",
        "\n",
        "    # Split into train/test\n",
        "    X_train, X_test, y_train, y_test = train_test_split(X, y, test_size=0.2, random_state=config['seed'])\n",
        "\n",
        "    # Train RandomForest Classifier\n",
        "    clf = RandomForestClassifier(random_state=config['seed'])\n",
        "    clf.fit(X_train, y_train)\n",
        "\n",
        "    # Evaluate\n",
        "    y_pred = clf.predict(X_test)\n",
        "    acc = accuracy_score(y_test, y_pred)\n",
        "    tn, fp, fn, tp = confusion_matrix(y_test, y_pred).ravel()\n",
        "    fpr = fp / (fp + tn) if (fp + tn) > 0 else 0\n",
        "    fnr = fn / (fn + tp) if (fn + tp) > 0 else 0\n",
        "\n",
        "    return acc, fpr, fnr"
      ],
      "metadata": {
        "id": "nngC6rCrNqph"
      },
      "execution_count": 7,
      "outputs": []
    },
    {
      "cell_type": "code",
      "source": [
        "# Step 8: Load Dataset and Create Masks\n",
        "# Load the dataset\n",
        "dataset = Amazon(root='./data', name=config['dataset_type'])\n",
        "data = dataset[0].to(config['device'])\n",
        "\n",
        "# Generate train/val/test masks\n",
        "num_nodes = data.num_nodes\n",
        "indices = np.arange(num_nodes)\n",
        "np.random.shuffle(indices)\n",
        "\n",
        "train_size = int(0.6 * num_nodes)\n",
        "val_size = int(0.2 * num_nodes)\n",
        "\n",
        "train_indices = indices[:train_size]\n",
        "val_indices = indices[train_size:train_size + val_size]\n",
        "test_indices = indices[train_size + val_size:]\n",
        "\n",
        "# Create masks\n",
        "data.train_mask = torch.zeros(num_nodes, dtype=torch.bool)\n",
        "data.val_mask = torch.zeros(num_nodes, dtype=torch.bool)\n",
        "data.test_mask = torch.zeros(num_nodes, dtype=torch.bool)\n",
        "\n",
        "data.train_mask[train_indices] = True\n",
        "data.val_mask[val_indices] = True\n",
        "data.test_mask[test_indices] = True\n",
        "\n",
        "# Apply feature masking\n",
        "data = mask_features(data, config['mask_ratio'])"
      ],
      "metadata": {
        "colab": {
          "base_uri": "https://localhost:8080/"
        },
        "id": "9wpYBNqiNuLz",
        "outputId": "c3e9de59-902e-4a08-8827-a28eba446ab7"
      },
      "execution_count": 8,
      "outputs": [
        {
          "output_type": "stream",
          "name": "stderr",
          "text": [
            "Downloading https://github.com/shchur/gnn-benchmark/raw/master/data/npz/amazon_electronics_computers.npz\n",
            "Processing...\n",
            "Done!\n"
          ]
        }
      ]
    },
    {
      "cell_type": "code",
      "source": [
        "# Step 9: Initialize Models\n",
        "target_model = GNNModel(dataset.num_features, config['hidden_dims'], dataset.num_classes, config['model_type']).to(config['device'])\n",
        "shadow_model = GNNModel(dataset.num_features, config['hidden_dims'], dataset.num_classes, config['model_type']).to(config['device'])"
      ],
      "metadata": {
        "id": "hoz3M63lNx9f"
      },
      "execution_count": 9,
      "outputs": []
    },
    {
      "cell_type": "code",
      "source": [
        "# Step 10: Train Models\n",
        "optimizer = torch.optim.Adam(target_model.parameters(), lr=config['learning_rate'])\n",
        "criterion = torch.nn.NLLLoss()\n",
        "\n",
        "train_model(target_model, data, optimizer, criterion, config['epochs'])\n",
        "train_model(shadow_model, data, optimizer, criterion, config['epochs'])"
      ],
      "metadata": {
        "colab": {
          "base_uri": "https://localhost:8080/"
        },
        "id": "AAXlnt8jN1BZ",
        "outputId": "194d2a6e-a15d-4d76-88c6-48ac3a4d864a"
      },
      "execution_count": 10,
      "outputs": [
        {
          "output_type": "stream",
          "name": "stderr",
          "text": [
            "Training: 100%|██████████| 100/100 [00:12<00:00,  8.00it/s]\n",
            "Training: 100%|██████████| 100/100 [00:09<00:00, 10.48it/s]\n"
          ]
        }
      ]
    },
    {
      "cell_type": "code",
      "source": [
        "# Step 11: Evaluate Models\n",
        "target_acc = evaluate_model(target_model, data)\n",
        "shadow_acc = evaluate_model(shadow_model, data)\n",
        "print(f\"Target Model Test Accuracy: {target_acc:.4f}\")\n",
        "print(f\"Shadow Model Test Accuracy: {shadow_acc:.4f}\")"
      ],
      "metadata": {
        "colab": {
          "base_uri": "https://localhost:8080/"
        },
        "id": "U7HX_JGnN3X8",
        "outputId": "fde4b4e8-f98a-4a20-f55e-2451809869ac"
      },
      "execution_count": 11,
      "outputs": [
        {
          "output_type": "stream",
          "name": "stdout",
          "text": [
            "Target Model Test Accuracy: 0.8870\n",
            "Shadow Model Test Accuracy: 0.0116\n"
          ]
        }
      ]
    },
    {
      "cell_type": "code",
      "source": [
        "# Step 12: Ownership Verification\n",
        "ownership_acc, fpr, fnr = evaluate_ownership(target_model, shadow_model, data)\n",
        "print(f\"Ownership Classifier Accuracy: {ownership_acc:.4f}, FPR: {fpr:.4f}, FNR: {fnr:.4f}\")"
      ],
      "metadata": {
        "colab": {
          "base_uri": "https://localhost:8080/"
        },
        "id": "kXzcJm-mOEau",
        "outputId": "a7c87ca7-abad-4e7b-fc30-a32f1b375ced"
      },
      "execution_count": 12,
      "outputs": [
        {
          "output_type": "stream",
          "name": "stdout",
          "text": [
            "Ownership Classifier Accuracy: 1.0000, FPR: 0.0000, FNR: 0.0000\n"
          ]
        }
      ]
    },
    {
      "cell_type": "code",
      "source": [],
      "metadata": {
        "id": "gNByITILOLwQ"
      },
      "execution_count": null,
      "outputs": []
    }
  ]
}