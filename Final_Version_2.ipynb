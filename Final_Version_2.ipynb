{
  "nbformat": 4,
  "nbformat_minor": 0,
  "metadata": {
    "colab": {
      "provenance": [],
      "gpuType": "T4",
      "authorship_tag": "ABX9TyNX/c99T2CQGcg6T3yHEBdC",
      "include_colab_link": true
    },
    "kernelspec": {
      "name": "python3",
      "display_name": "Python 3"
    },
    "language_info": {
      "name": "python"
    },
    "accelerator": "GPU"
  },
  "cells": [
    {
      "cell_type": "markdown",
      "metadata": {
        "id": "view-in-github",
        "colab_type": "text"
      },
      "source": [
        "<a href=\"https://colab.research.google.com/github/Nilufayeasmin299/Reproduce-GNN_Ownership_Verification/blob/main/Final_Version_2.ipynb\" target=\"_parent\"><img src=\"https://colab.research.google.com/assets/colab-badge.svg\" alt=\"Open In Colab\"/></a>"
      ]
    },
    {
      "cell_type": "code",
      "execution_count": 3,
      "metadata": {
        "colab": {
          "base_uri": "https://localhost:8080/"
        },
        "id": "5H2bYLxl9ArQ",
        "outputId": "d89fdeb7-d34d-405d-e0bc-abf96ad0c79b"
      },
      "outputs": [
        {
          "output_type": "stream",
          "name": "stdout",
          "text": [
            "Requirement already satisfied: torch in /usr/local/lib/python3.10/dist-packages (2.5.1+cu121)\n",
            "Requirement already satisfied: torchvision in /usr/local/lib/python3.10/dist-packages (0.20.1+cu121)\n",
            "Requirement already satisfied: torch-geometric in /usr/local/lib/python3.10/dist-packages (2.6.1)\n",
            "Requirement already satisfied: numpy in /usr/local/lib/python3.10/dist-packages (1.26.4)\n",
            "Requirement already satisfied: scikit-learn in /usr/local/lib/python3.10/dist-packages (1.5.2)\n",
            "Requirement already satisfied: matplotlib in /usr/local/lib/python3.10/dist-packages (3.8.0)\n",
            "Requirement already satisfied: tqdm in /usr/local/lib/python3.10/dist-packages (4.66.6)\n",
            "Requirement already satisfied: filelock in /usr/local/lib/python3.10/dist-packages (from torch) (3.16.1)\n",
            "Requirement already satisfied: typing-extensions>=4.8.0 in /usr/local/lib/python3.10/dist-packages (from torch) (4.12.2)\n",
            "Requirement already satisfied: networkx in /usr/local/lib/python3.10/dist-packages (from torch) (3.4.2)\n",
            "Requirement already satisfied: jinja2 in /usr/local/lib/python3.10/dist-packages (from torch) (3.1.4)\n",
            "Requirement already satisfied: fsspec in /usr/local/lib/python3.10/dist-packages (from torch) (2024.10.0)\n",
            "Requirement already satisfied: sympy==1.13.1 in /usr/local/lib/python3.10/dist-packages (from torch) (1.13.1)\n",
            "Requirement already satisfied: mpmath<1.4,>=1.1.0 in /usr/local/lib/python3.10/dist-packages (from sympy==1.13.1->torch) (1.3.0)\n",
            "Requirement already satisfied: pillow!=8.3.*,>=5.3.0 in /usr/local/lib/python3.10/dist-packages (from torchvision) (11.0.0)\n",
            "Requirement already satisfied: aiohttp in /usr/local/lib/python3.10/dist-packages (from torch-geometric) (3.11.9)\n",
            "Requirement already satisfied: psutil>=5.8.0 in /usr/local/lib/python3.10/dist-packages (from torch-geometric) (5.9.5)\n",
            "Requirement already satisfied: pyparsing in /usr/local/lib/python3.10/dist-packages (from torch-geometric) (3.2.0)\n",
            "Requirement already satisfied: requests in /usr/local/lib/python3.10/dist-packages (from torch-geometric) (2.32.3)\n",
            "Requirement already satisfied: scipy>=1.6.0 in /usr/local/lib/python3.10/dist-packages (from scikit-learn) (1.13.1)\n",
            "Requirement already satisfied: joblib>=1.2.0 in /usr/local/lib/python3.10/dist-packages (from scikit-learn) (1.4.2)\n",
            "Requirement already satisfied: threadpoolctl>=3.1.0 in /usr/local/lib/python3.10/dist-packages (from scikit-learn) (3.5.0)\n",
            "Requirement already satisfied: contourpy>=1.0.1 in /usr/local/lib/python3.10/dist-packages (from matplotlib) (1.3.1)\n",
            "Requirement already satisfied: cycler>=0.10 in /usr/local/lib/python3.10/dist-packages (from matplotlib) (0.12.1)\n",
            "Requirement already satisfied: fonttools>=4.22.0 in /usr/local/lib/python3.10/dist-packages (from matplotlib) (4.55.1)\n",
            "Requirement already satisfied: kiwisolver>=1.0.1 in /usr/local/lib/python3.10/dist-packages (from matplotlib) (1.4.7)\n",
            "Requirement already satisfied: packaging>=20.0 in /usr/local/lib/python3.10/dist-packages (from matplotlib) (24.2)\n",
            "Requirement already satisfied: python-dateutil>=2.7 in /usr/local/lib/python3.10/dist-packages (from matplotlib) (2.8.2)\n",
            "Requirement already satisfied: six>=1.5 in /usr/local/lib/python3.10/dist-packages (from python-dateutil>=2.7->matplotlib) (1.16.0)\n",
            "Requirement already satisfied: aiohappyeyeballs>=2.3.0 in /usr/local/lib/python3.10/dist-packages (from aiohttp->torch-geometric) (2.4.4)\n",
            "Requirement already satisfied: aiosignal>=1.1.2 in /usr/local/lib/python3.10/dist-packages (from aiohttp->torch-geometric) (1.3.1)\n",
            "Requirement already satisfied: async-timeout<6.0,>=4.0 in /usr/local/lib/python3.10/dist-packages (from aiohttp->torch-geometric) (4.0.3)\n",
            "Requirement already satisfied: attrs>=17.3.0 in /usr/local/lib/python3.10/dist-packages (from aiohttp->torch-geometric) (24.2.0)\n",
            "Requirement already satisfied: frozenlist>=1.1.1 in /usr/local/lib/python3.10/dist-packages (from aiohttp->torch-geometric) (1.5.0)\n",
            "Requirement already satisfied: multidict<7.0,>=4.5 in /usr/local/lib/python3.10/dist-packages (from aiohttp->torch-geometric) (6.1.0)\n",
            "Requirement already satisfied: propcache>=0.2.0 in /usr/local/lib/python3.10/dist-packages (from aiohttp->torch-geometric) (0.2.1)\n",
            "Requirement already satisfied: yarl<2.0,>=1.17.0 in /usr/local/lib/python3.10/dist-packages (from aiohttp->torch-geometric) (1.18.3)\n",
            "Requirement already satisfied: MarkupSafe>=2.0 in /usr/local/lib/python3.10/dist-packages (from jinja2->torch) (3.0.2)\n",
            "Requirement already satisfied: charset-normalizer<4,>=2 in /usr/local/lib/python3.10/dist-packages (from requests->torch-geometric) (3.4.0)\n",
            "Requirement already satisfied: idna<4,>=2.5 in /usr/local/lib/python3.10/dist-packages (from requests->torch-geometric) (3.10)\n",
            "Requirement already satisfied: urllib3<3,>=1.21.1 in /usr/local/lib/python3.10/dist-packages (from requests->torch-geometric) (2.2.3)\n",
            "Requirement already satisfied: certifi>=2017.4.17 in /usr/local/lib/python3.10/dist-packages (from requests->torch-geometric) (2024.8.30)\n"
          ]
        }
      ],
      "source": [
        "!pip install torch torchvision torch-geometric numpy scikit-learn matplotlib tqdm\n"
      ]
    },
    {
      "cell_type": "code",
      "source": [
        "# Import Libraries\n",
        "import torch\n",
        "import torch.nn.functional as F\n",
        "import torch.optim as optim\n",
        "from torch_geometric.datasets import Planetoid, Amazon\n",
        "from torch_geometric.nn import GCNConv, GATConv, SAGEConv, GINConv, BatchNorm\n",
        "from sklearn.metrics import accuracy_score, confusion_matrix\n",
        "import pandas as pd\n",
        "import numpy as np\n",
        "import random\n",
        "import matplotlib.pyplot as plt\n",
        "from tqdm import tqdm\n"
      ],
      "metadata": {
        "id": "ndTNthNF_VS_"
      },
      "execution_count": 11,
      "outputs": []
    },
    {
      "cell_type": "code",
      "source": [
        "# Hyperparameter Configuration\n",
        "CONFIG = {\n",
        "    'learning_rate': 0.001,\n",
        "    'weight_decay': 1e-4,\n",
        "    'hidden_dim': 128,\n",
        "    'dropout': 0.5,\n",
        "    'epochs': 300,\n",
        "    'edge_dropout_rate': 0.1,\n",
        "    'mask_ratios': [0.0, 0.05, 0.1, 0.2]\n",
        "}\n"
      ],
      "metadata": {
        "id": "7asgUiIpCrZN"
      },
      "execution_count": 12,
      "outputs": []
    },
    {
      "cell_type": "code",
      "source": [
        "def create_masks(data, train_ratio=0.6, val_ratio=0.2):\n",
        "    num_nodes = data.num_nodes\n",
        "    indices = torch.randperm(num_nodes)\n",
        "    train_size = int(train_ratio * num_nodes)\n",
        "    val_size = int(val_ratio * num_nodes)\n",
        "\n",
        "    data.train_mask = torch.zeros(num_nodes, dtype=torch.bool)\n",
        "    data.val_mask = torch.zeros(num_nodes, dtype=torch.bool)\n",
        "    data.test_mask = torch.zeros(num_nodes, dtype=torch.bool)\n",
        "\n",
        "    data.train_mask[indices[:train_size]] = True\n",
        "    data.val_mask[indices[train_size:train_size + val_size]] = True\n",
        "    data.test_mask[indices[train_size + val_size:]] = True\n",
        "    return data\n"
      ],
      "metadata": {
        "id": "_fyr6ly7Cuih"
      },
      "execution_count": 13,
      "outputs": []
    },
    {
      "cell_type": "code",
      "source": [
        "def normalize_features(data):\n",
        "    data.x = F.normalize(data.x, p=2, dim=1)  # L2 normalization\n",
        "    return data\n"
      ],
      "metadata": {
        "id": "18gDPyxyCwyA"
      },
      "execution_count": 14,
      "outputs": []
    },
    {
      "cell_type": "code",
      "source": [
        "def augment_data(data, edge_dropout_rate):\n",
        "    num_edges = data.edge_index.shape[1]\n",
        "    keep_edges = int(num_edges * (1 - edge_dropout_rate))\n",
        "    perm = torch.randperm(num_edges)[:keep_edges]\n",
        "    data.edge_index = data.edge_index[:, perm]\n",
        "    return data\n"
      ],
      "metadata": {
        "id": "7z1wT0dWCy0O"
      },
      "execution_count": 15,
      "outputs": []
    },
    {
      "cell_type": "code",
      "source": [
        "def mask_features(data, mask_ratio):\n",
        "    num_features = data.x.shape[1]\n",
        "    num_mask = int(num_features * mask_ratio)\n",
        "    mask_indices = random.sample(range(num_features), num_mask)\n",
        "\n",
        "    masked_x = data.x.clone()\n",
        "    masked_x[:, mask_indices] = 0\n",
        "    data.x = masked_x\n",
        "    return data\n"
      ],
      "metadata": {
        "id": "fXAyHbI8C0om"
      },
      "execution_count": 16,
      "outputs": []
    },
    {
      "cell_type": "code",
      "source": [
        "class AdvancedGNN(torch.nn.Module):\n",
        "    def __init__(self, in_channels, out_channels):\n",
        "        super(AdvancedGNN, self).__init__()\n",
        "        self.conv1 = GINConv(\n",
        "            torch.nn.Sequential(\n",
        "                torch.nn.Linear(in_channels, CONFIG['hidden_dim']),\n",
        "                BatchNorm(CONFIG['hidden_dim']),\n",
        "                torch.nn.ReLU(),\n",
        "                torch.nn.Linear(CONFIG['hidden_dim'], CONFIG['hidden_dim']),\n",
        "            )\n",
        "        )\n",
        "        self.conv2 = GINConv(\n",
        "            torch.nn.Sequential(\n",
        "                torch.nn.Linear(CONFIG['hidden_dim'], CONFIG['hidden_dim']),\n",
        "                BatchNorm(CONFIG['hidden_dim']),\n",
        "                torch.nn.ReLU(),\n",
        "                torch.nn.Linear(CONFIG['hidden_dim'], CONFIG['hidden_dim']),\n",
        "            )\n",
        "        )\n",
        "        self.fc = torch.nn.Linear(CONFIG['hidden_dim'], out_channels)\n",
        "        self.dropout = torch.nn.Dropout(p=CONFIG['dropout'])\n",
        "\n",
        "    def forward(self, data):\n",
        "        x, edge_index = data.x, data.edge_index\n",
        "        x = F.relu(self.conv1(x, edge_index))\n",
        "        x = self.dropout(x)\n",
        "        x = F.relu(self.conv2(x, edge_index))\n",
        "        x = self.fc(x)\n",
        "        return F.log_softmax(x, dim=1)\n"
      ],
      "metadata": {
        "id": "dbA3rXCxC2e4"
      },
      "execution_count": 17,
      "outputs": []
    },
    {
      "cell_type": "code",
      "source": [
        "def train_gnn(model, data, optimizer, criterion, edge_dropout_rate):\n",
        "    model.train()\n",
        "    optimizer.zero_grad()\n",
        "\n",
        "    # Augment data\n",
        "    augmented_data = augment_data(data.clone(), edge_dropout_rate)\n",
        "    out = model(augmented_data)\n",
        "\n",
        "    loss = criterion(out[augmented_data.train_mask], augmented_data.y[augmented_data.train_mask])\n",
        "    loss.backward()\n",
        "    optimizer.step()\n",
        "    return loss.item()\n",
        "\n",
        "def evaluate_gnn(model, data):\n",
        "    model.eval()\n",
        "    with torch.no_grad():\n",
        "        out = model(data)\n",
        "        pred = out.argmax(dim=1)\n",
        "        accuracy = accuracy_score(data.y[data.test_mask].cpu(), pred[data.test_mask].cpu())\n",
        "\n",
        "        cm = confusion_matrix(data.y[data.test_mask].cpu(), pred[data.test_mask].cpu())\n",
        "        fpr = 1 - np.diag(cm) / cm.sum(axis=1)\n",
        "        fnr = 1 - np.diag(cm) / cm.sum(axis=0)\n",
        "        avg_fpr = np.mean(fpr)\n",
        "        avg_fnr = np.mean(fnr)\n",
        "    return accuracy, avg_fpr, avg_fnr\n"
      ],
      "metadata": {
        "id": "fWnSyPJXC4e9"
      },
      "execution_count": 18,
      "outputs": []
    },
    {
      "cell_type": "code",
      "source": [
        "datasets = {\n",
        "    'Cora': Planetoid(root='/tmp/Cora', name='Cora'),\n",
        "    'CiteSeer': Planetoid(root='/tmp/CiteSeer', name='CiteSeer'),\n",
        "    'PubMed': Planetoid(root='/tmp/PubMed', name='PubMed')\n",
        "}\n",
        "RESULTS = {}\n",
        "\n",
        "for dataset_name, dataset in tqdm(datasets.items(), desc=\"Running Experiments\"):\n",
        "    data = dataset[0]\n",
        "    data = normalize_features(data)\n",
        "    data = create_masks(data)\n",
        "\n",
        "    in_channels = data.num_features\n",
        "    out_channels = dataset.num_classes\n",
        "\n",
        "    for mask_ratio in CONFIG['mask_ratios']:\n",
        "        print(f\"Evaluating {dataset_name} with Mask Ratio {mask_ratio}\")\n",
        "        masked_data = mask_features(data.clone(), mask_ratio)\n",
        "\n",
        "        model = AdvancedGNN(in_channels, out_channels).to('cuda' if torch.cuda.is_available() else 'cpu')\n",
        "        optimizer = optim.AdamW(model.parameters(), lr=CONFIG['learning_rate'], weight_decay=CONFIG['weight_decay'])\n",
        "        criterion = torch.nn.CrossEntropyLoss()\n",
        "\n",
        "        # In the training loop within your main experiment block:\n",
        "        for epoch in range(CONFIG['epochs']):\n",
        "          masked_data = masked_data.to(model.conv1.nn[0].weight.device) # Move data to the device where model weights reside\n",
        "          loss = train_gnn(model, masked_data, optimizer, criterion, CONFIG['edge_dropout_rate'])\n",
        "          if epoch % 50 == 0:\n",
        "            print(f\"Epoch {epoch}: Loss = {loss:.4f}\")\n",
        "\n",
        "        accuracy, avg_fpr, avg_fnr = evaluate_gnn(model, masked_data)\n",
        "        RESULTS[f\"{dataset_name}_mask_{mask_ratio}\"] = {\n",
        "            'Accuracy': accuracy,\n",
        "            'FPR': avg_fpr,\n",
        "            'FNR': avg_fnr\n",
        "        }\n",
        "        print(f\"Accuracy: {accuracy:.4f}, FPR: {avg_fpr:.4f}, FNR: {avg_fnr:.4f}\")\n"
      ],
      "metadata": {
        "colab": {
          "base_uri": "https://localhost:8080/"
        },
        "id": "4YuzapO3C6qd",
        "outputId": "c883df98-b7d7-46dc-fd51-9bc172755de2"
      },
      "execution_count": 20,
      "outputs": [
        {
          "output_type": "stream",
          "name": "stderr",
          "text": [
            "\rRunning Experiments:   0%|          | 0/3 [00:00<?, ?it/s]"
          ]
        },
        {
          "output_type": "stream",
          "name": "stdout",
          "text": [
            "Evaluating Cora with Mask Ratio 0.0\n",
            "Epoch 0: Loss = 1.9773\n",
            "Epoch 50: Loss = 0.1273\n",
            "Epoch 100: Loss = 0.0329\n",
            "Epoch 150: Loss = 0.0296\n",
            "Epoch 200: Loss = 0.0219\n",
            "Epoch 250: Loss = 0.0141\n",
            "Accuracy: 0.8435, FPR: 0.1600, FNR: 0.1677\n",
            "Evaluating Cora with Mask Ratio 0.05\n",
            "Epoch 0: Loss = 1.9630\n",
            "Epoch 50: Loss = 0.1089\n",
            "Epoch 100: Loss = 0.0387\n",
            "Epoch 150: Loss = 0.0217\n",
            "Epoch 200: Loss = 0.0139\n",
            "Epoch 250: Loss = 0.0138\n",
            "Accuracy: 0.8545, FPR: 0.1449, FNR: 0.1547\n",
            "Evaluating Cora with Mask Ratio 0.1\n",
            "Epoch 0: Loss = 1.9880\n",
            "Epoch 50: Loss = 0.1255\n",
            "Epoch 100: Loss = 0.0413\n",
            "Epoch 150: Loss = 0.0236\n",
            "Epoch 200: Loss = 0.0159\n",
            "Epoch 250: Loss = 0.0173\n",
            "Accuracy: 0.8379, FPR: 0.1619, FNR: 0.1703\n",
            "Evaluating Cora with Mask Ratio 0.2\n",
            "Epoch 0: Loss = 1.9759\n",
            "Epoch 50: Loss = 0.1213\n",
            "Epoch 100: Loss = 0.0420\n",
            "Epoch 150: Loss = 0.0290\n",
            "Epoch 200: Loss = 0.0224\n",
            "Epoch 250: Loss = 0.0141\n"
          ]
        },
        {
          "output_type": "stream",
          "name": "stderr",
          "text": [
            "\rRunning Experiments:  33%|███▎      | 1/3 [00:06<00:13,  6.56s/it]"
          ]
        },
        {
          "output_type": "stream",
          "name": "stdout",
          "text": [
            "Accuracy: 0.8361, FPR: 0.1646, FNR: 0.1749\n",
            "Evaluating CiteSeer with Mask Ratio 0.0\n",
            "Epoch 0: Loss = 1.7989\n",
            "Epoch 50: Loss = 0.1513\n",
            "Epoch 100: Loss = 0.0918\n",
            "Epoch 150: Loss = 0.0714\n",
            "Epoch 200: Loss = 0.0665\n",
            "Epoch 250: Loss = 0.0615\n",
            "Accuracy: 0.7162, FPR: 0.3068, FNR: 0.3033\n",
            "Evaluating CiteSeer with Mask Ratio 0.05\n",
            "Epoch 0: Loss = 1.8315\n",
            "Epoch 50: Loss = 0.1578\n",
            "Epoch 100: Loss = 0.0969\n",
            "Epoch 150: Loss = 0.0690\n",
            "Epoch 200: Loss = 0.0588\n",
            "Epoch 250: Loss = 0.0532\n",
            "Accuracy: 0.6967, FPR: 0.3216, FNR: 0.3243\n",
            "Evaluating CiteSeer with Mask Ratio 0.1\n",
            "Epoch 0: Loss = 1.8131\n",
            "Epoch 50: Loss = 0.1567\n",
            "Epoch 100: Loss = 0.0873\n",
            "Epoch 150: Loss = 0.0691\n",
            "Epoch 200: Loss = 0.0747\n",
            "Epoch 250: Loss = 0.0534\n",
            "Accuracy: 0.7132, FPR: 0.3116, FNR: 0.3111\n",
            "Evaluating CiteSeer with Mask Ratio 0.2\n",
            "Epoch 0: Loss = 1.7838\n",
            "Epoch 50: Loss = 0.1412\n",
            "Epoch 100: Loss = 0.0903\n",
            "Epoch 150: Loss = 0.0699\n",
            "Epoch 200: Loss = 0.0596\n",
            "Epoch 250: Loss = 0.0513\n"
          ]
        },
        {
          "output_type": "stream",
          "name": "stderr",
          "text": [
            "\rRunning Experiments:  67%|██████▋   | 2/3 [00:16<00:08,  8.65s/it]"
          ]
        },
        {
          "output_type": "stream",
          "name": "stdout",
          "text": [
            "Accuracy: 0.7027, FPR: 0.3128, FNR: 0.3135\n",
            "Evaluating PubMed with Mask Ratio 0.0\n",
            "Epoch 0: Loss = 1.0908\n",
            "Epoch 50: Loss = 0.2725\n",
            "Epoch 100: Loss = 0.1342\n",
            "Epoch 150: Loss = 0.0693\n",
            "Epoch 200: Loss = 0.0388\n",
            "Epoch 250: Loss = 0.0273\n",
            "Accuracy: 0.8699, FPR: 0.1313, FNR: 0.1382\n",
            "Evaluating PubMed with Mask Ratio 0.05\n",
            "Epoch 0: Loss = 1.1334\n",
            "Epoch 50: Loss = 0.2821\n",
            "Epoch 100: Loss = 0.1492\n",
            "Epoch 150: Loss = 0.0725\n",
            "Epoch 200: Loss = 0.0442\n",
            "Epoch 250: Loss = 0.0314\n",
            "Accuracy: 0.8689, FPR: 0.1336, FNR: 0.1393\n",
            "Evaluating PubMed with Mask Ratio 0.1\n",
            "Epoch 0: Loss = 1.0884\n",
            "Epoch 50: Loss = 0.2880\n",
            "Epoch 100: Loss = 0.1471\n",
            "Epoch 150: Loss = 0.0753\n",
            "Epoch 200: Loss = 0.0490\n",
            "Epoch 250: Loss = 0.0367\n",
            "Accuracy: 0.8616, FPR: 0.1428, FNR: 0.1466\n",
            "Evaluating PubMed with Mask Ratio 0.2\n",
            "Epoch 0: Loss = 1.1119\n",
            "Epoch 50: Loss = 0.2944\n",
            "Epoch 100: Loss = 0.1629\n",
            "Epoch 150: Loss = 0.0866\n",
            "Epoch 200: Loss = 0.0563\n",
            "Epoch 250: Loss = 0.0381\n"
          ]
        },
        {
          "output_type": "stream",
          "name": "stderr",
          "text": [
            "Running Experiments: 100%|██████████| 3/3 [00:34<00:00, 11.58s/it]"
          ]
        },
        {
          "output_type": "stream",
          "name": "stdout",
          "text": [
            "Accuracy: 0.8616, FPR: 0.1392, FNR: 0.1455\n"
          ]
        },
        {
          "output_type": "stream",
          "name": "stderr",
          "text": [
            "\n"
          ]
        }
      ]
    },
    {
      "cell_type": "code",
      "source": [
        "# Visualize Results\n",
        "result_df = pd.DataFrame.from_dict(RESULTS, orient='index')\n",
        "result_df.style.format(\"{:.4f}\")\n",
        "\n",
        "result_df.plot(kind='bar', figsize=(16, 8))\n",
        "plt.title(\"Enhanced GNN Performance Metrics (Accuracy, FPR, FNR)\")\n",
        "plt.xlabel(\"Experiment Settings\")\n",
        "plt.ylabel(\"Metrics\")\n",
        "plt.legend([\"Accuracy\", \"FPR\", \"FNR\"])\n",
        "plt.show()\n"
      ],
      "metadata": {
        "colab": {
          "base_uri": "https://localhost:8080/",
          "height": 845
        },
        "id": "O0GHsaERC84s",
        "outputId": "b53dff84-7e4a-4e86-ab76-5130464f423f"
      },
      "execution_count": 21,
      "outputs": [
        {
          "output_type": "display_data",
          "data": {
            "text/plain": [
              "<Figure size 1600x800 with 1 Axes>"
            ],
            "image/png": "[encoded data removed]"
          },
          "metadata": {}
        }
      ]
    },
    {
      "cell_type": "code",
      "source": [],
      "metadata": {
        "id": "Ah8kE33vEo_N"
      },
      "execution_count": null,
      "outputs": []
    }
  ]
}