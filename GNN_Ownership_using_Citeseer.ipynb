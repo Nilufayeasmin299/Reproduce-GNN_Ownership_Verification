{
  "nbformat": 4,
  "nbformat_minor": 0,
  "metadata": {
    "colab": {
      "provenance": [],
      "gpuType": "T4",
      "authorship_tag": "ABX9TyO3lsGnWfnbMFvGv0jAYARj",
      "include_colab_link": true
    },
    "kernelspec": {
      "name": "python3",
      "display_name": "Python 3"
    },
    "language_info": {
      "name": "python"
    },
    "accelerator": "GPU"
  },
  "cells": [
    {
      "cell_type": "markdown",
      "metadata": {
        "id": "view-in-github",
        "colab_type": "text"
      },
      "source": [
        "<a href=\"https://colab.research.google.com/github/Nilufayeasmin299/Reproduce-GNN_Ownership_Verification/blob/main/GNN_Ownership_using_Citeseer.ipynb\" target=\"_parent\"><img src=\"https://colab.research.google.com/assets/colab-badge.svg\" alt=\"Open In Colab\"/></a>"
      ]
    },
    {
      "cell_type": "code",
      "execution_count": null,
      "metadata": {
        "colab": {
          "base_uri": "https://localhost:8080/",
          "height": 1000
        },
        "id": "zqhXeTPzzHtA",
        "outputId": "8398efe7-e1aa-44d5-a0e7-52e377ac42d8"
      },
      "outputs": [
        {
          "output_type": "stream",
          "name": "stdout",
          "text": [
            "Looking in indexes: https://download.pytorch.org/whl/cu118\n",
            "Requirement already satisfied: torch in /usr/local/lib/python3.10/dist-packages (2.5.1+cu121)\n",
            "Requirement already satisfied: torchvision in /usr/local/lib/python3.10/dist-packages (0.20.1+cu121)\n",
            "Requirement already satisfied: torchaudio in /usr/local/lib/python3.10/dist-packages (2.5.1+cu121)\n",
            "Requirement already satisfied: filelock in /usr/local/lib/python3.10/dist-packages (from torch) (3.16.1)\n",
            "Requirement already satisfied: typing-extensions>=4.8.0 in /usr/local/lib/python3.10/dist-packages (from torch) (4.12.2)\n",
            "Requirement already satisfied: networkx in /usr/local/lib/python3.10/dist-packages (from torch) (3.4.2)\n",
            "Requirement already satisfied: jinja2 in /usr/local/lib/python3.10/dist-packages (from torch) (3.1.4)\n",
            "Requirement already satisfied: fsspec in /usr/local/lib/python3.10/dist-packages (from torch) (2024.10.0)\n",
            "Requirement already satisfied: sympy==1.13.1 in /usr/local/lib/python3.10/dist-packages (from torch) (1.13.1)\n",
            "Requirement already satisfied: mpmath<1.4,>=1.1.0 in /usr/local/lib/python3.10/dist-packages (from sympy==1.13.1->torch) (1.3.0)\n",
            "Requirement already satisfied: numpy in /usr/local/lib/python3.10/dist-packages (from torchvision) (1.26.4)\n",
            "Requirement already satisfied: pillow!=8.3.*,>=5.3.0 in /usr/local/lib/python3.10/dist-packages (from torchvision) (11.0.0)\n",
            "Requirement already satisfied: MarkupSafe>=2.0 in /usr/local/lib/python3.10/dist-packages (from jinja2->torch) (3.0.2)\n",
            "Collecting torch_geometric\n",
            "  Downloading torch_geometric-2.6.1-py3-none-any.whl.metadata (63 kB)\n",
            "\u001b[2K     \u001b[90m━━━━━━━━━━━━━━━━━━━━━━━━━━━━━━━━━━━━━━━━\u001b[0m \u001b[32m63.1/63.1 kB\u001b[0m \u001b[31m2.5 MB/s\u001b[0m eta \u001b[36m0:00:00\u001b[0m\n",
            "\u001b[?25hRequirement already satisfied: aiohttp in /usr/local/lib/python3.10/dist-packages (from torch_geometric) (3.11.2)\n",
            "Requirement already satisfied: fsspec in /usr/local/lib/python3.10/dist-packages (from torch_geometric) (2024.10.0)\n",
            "Requirement already satisfied: jinja2 in /usr/local/lib/python3.10/dist-packages (from torch_geometric) (3.1.4)\n",
            "Requirement already satisfied: numpy in /usr/local/lib/python3.10/dist-packages (from torch_geometric) (1.26.4)\n",
            "Requirement already satisfied: psutil>=5.8.0 in /usr/local/lib/python3.10/dist-packages (from torch_geometric) (5.9.5)\n",
            "Requirement already satisfied: pyparsing in /usr/local/lib/python3.10/dist-packages (from torch_geometric) (3.2.0)\n",
            "Requirement already satisfied: requests in /usr/local/lib/python3.10/dist-packages (from torch_geometric) (2.32.3)\n",
            "Requirement already satisfied: tqdm in /usr/local/lib/python3.10/dist-packages (from torch_geometric) (4.66.6)\n",
            "Requirement already satisfied: aiohappyeyeballs>=2.3.0 in /usr/local/lib/python3.10/dist-packages (from aiohttp->torch_geometric) (2.4.3)\n",
            "Requirement already satisfied: aiosignal>=1.1.2 in /usr/local/lib/python3.10/dist-packages (from aiohttp->torch_geometric) (1.3.1)\n",
            "Requirement already satisfied: attrs>=17.3.0 in /usr/local/lib/python3.10/dist-packages (from aiohttp->torch_geometric) (24.2.0)\n",
            "Requirement already satisfied: frozenlist>=1.1.1 in /usr/local/lib/python3.10/dist-packages (from aiohttp->torch_geometric) (1.5.0)\n",
            "Requirement already satisfied: multidict<7.0,>=4.5 in /usr/local/lib/python3.10/dist-packages (from aiohttp->torch_geometric) (6.1.0)\n",
            "Requirement already satisfied: propcache>=0.2.0 in /usr/local/lib/python3.10/dist-packages (from aiohttp->torch_geometric) (0.2.0)\n",
            "Requirement already satisfied: yarl<2.0,>=1.17.0 in /usr/local/lib/python3.10/dist-packages (from aiohttp->torch_geometric) (1.17.2)\n",
            "Requirement already satisfied: async-timeout<6.0,>=4.0 in /usr/local/lib/python3.10/dist-packages (from aiohttp->torch_geometric) (4.0.3)\n",
            "Requirement already satisfied: MarkupSafe>=2.0 in /usr/local/lib/python3.10/dist-packages (from jinja2->torch_geometric) (3.0.2)\n",
            "Requirement already satisfied: charset-normalizer<4,>=2 in /usr/local/lib/python3.10/dist-packages (from requests->torch_geometric) (3.4.0)\n",
            "Requirement already satisfied: idna<4,>=2.5 in /usr/local/lib/python3.10/dist-packages (from requests->torch_geometric) (3.10)\n",
            "Requirement already satisfied: urllib3<3,>=1.21.1 in /usr/local/lib/python3.10/dist-packages (from requests->torch_geometric) (2.2.3)\n",
            "Requirement already satisfied: certifi>=2017.4.17 in /usr/local/lib/python3.10/dist-packages (from requests->torch_geometric) (2024.8.30)\n",
            "Requirement already satisfied: typing-extensions>=4.1.0 in /usr/local/lib/python3.10/dist-packages (from multidict<7.0,>=4.5->aiohttp->torch_geometric) (4.12.2)\n",
            "Downloading torch_geometric-2.6.1-py3-none-any.whl (1.1 MB)\n",
            "\u001b[2K   \u001b[90m━━━━━━━━━━━━━━━━━━━━━━━━━━━━━━━━━━━━━━━━\u001b[0m \u001b[32m1.1/1.1 MB\u001b[0m \u001b[31m25.6 MB/s\u001b[0m eta \u001b[36m0:00:00\u001b[0m\n",
            "\u001b[?25hInstalling collected packages: torch_geometric\n",
            "Successfully installed torch_geometric-2.6.1\n",
            "Requirement already satisfied: numpy in /usr/local/lib/python3.10/dist-packages (1.26.4)\n",
            "Requirement already satisfied: scikit-learn in /usr/local/lib/python3.10/dist-packages (1.5.2)\n",
            "Requirement already satisfied: tqdm in /usr/local/lib/python3.10/dist-packages (4.66.6)\n",
            "Requirement already satisfied: pyyaml in /usr/local/lib/python3.10/dist-packages (6.0.2)\n",
            "Collecting argparse\n",
            "  Downloading argparse-1.4.0-py2.py3-none-any.whl.metadata (2.8 kB)\n",
            "Requirement already satisfied: scipy>=1.6.0 in /usr/local/lib/python3.10/dist-packages (from scikit-learn) (1.13.1)\n",
            "Requirement already satisfied: joblib>=1.2.0 in /usr/local/lib/python3.10/dist-packages (from scikit-learn) (1.4.2)\n",
            "Requirement already satisfied: threadpoolctl>=3.1.0 in /usr/local/lib/python3.10/dist-packages (from scikit-learn) (3.5.0)\n",
            "Downloading argparse-1.4.0-py2.py3-none-any.whl (23 kB)\n",
            "Installing collected packages: argparse\n",
            "Successfully installed argparse-1.4.0\n"
          ]
        },
        {
          "output_type": "display_data",
          "data": {
            "application/vnd.colab-display-data+json": {
              "pip_warning": {
                "packages": [
                  "argparse"
                ]
              },
              "id": "63b82542229f471ca5c7fe6d59239ddf"
            }
          },
          "metadata": {}
        }
      ],
      "source": [
        "!pip install torch torchvision torchaudio --index-url https://download.pytorch.org/whl/cu118\n",
        "!pip install torch_geometric\n",
        "!pip install numpy scikit-learn tqdm pyyaml argparse\n"
      ]
    },
    {
      "cell_type": "code",
      "source": [
        "import torch\n",
        "import numpy as np\n",
        "\n",
        "# Configuration\n",
        "config = {\n",
        "    'dataset': 'Citeseer',\n",
        "    'hidden_dims': [128, 64],  # Hidden layer dimensions\n",
        "    'embedding_dim': 128,\n",
        "    'epochs': 100,\n",
        "    'learning_rate': 0.01,\n",
        "    'mask_ratio': 0.2,  # Ratio of features to mask\n",
        "    'device': 'cuda' if torch.cuda.is_available() else 'cpu',\n",
        "}\n",
        "\n",
        "# Set Random Seeds for Reproducibility\n",
        "torch.manual_seed(42)\n",
        "np.random.seed(42)\n",
        "if config['device'] == 'cuda':\n",
        "    torch.cuda.manual_seed_all(42)\n"
      ],
      "metadata": {
        "id": "2J5aalByzopw"
      },
      "execution_count": null,
      "outputs": []
    },
    {
      "cell_type": "code",
      "source": [
        "def mask_features(data, mask_ratio):\n",
        "    \"\"\"Apply feature masking to enrich the model's fingerprint.\"\"\"\n",
        "    num_features = data.x.shape[1]\n",
        "    mask = np.random.choice([0, 1], size=num_features, p=[mask_ratio, 1 - mask_ratio])\n",
        "    data.x = data.x * torch.tensor(mask, dtype=torch.float32, device=config['device'])\n",
        "    return data\n"
      ],
      "metadata": {
        "id": "vz_8aVTnzzDF"
      },
      "execution_count": null,
      "outputs": []
    },
    {
      "cell_type": "code",
      "source": [
        "from torch_geometric.nn import GCNConv, GINConv, GATConv, SAGEConv, SGConv\n",
        "\n",
        "class GNNModel(torch.nn.Module):\n",
        "    def __init__(self, input_dim, hidden_dims, output_dim, model_type='gcn'):\n",
        "        super(GNNModel, self).__init__()\n",
        "        if model_type == 'gcn':\n",
        "            self.conv1 = GCNConv(input_dim, hidden_dims[0])\n",
        "            self.conv2 = GCNConv(hidden_dims[0], hidden_dims[1])\n",
        "        elif model_type == 'gin':\n",
        "            self.conv1 = GINConv(torch.nn.Linear(input_dim, hidden_dims[0]))\n",
        "            self.conv2 = GINConv(torch.nn.Linear(hidden_dims[0], hidden_dims[1]))\n",
        "        elif model_type == 'gat':\n",
        "            self.conv1 = GATConv(input_dim, hidden_dims[0])\n",
        "            self.conv2 = GATConv(hidden_dims[0], hidden_dims[1])\n",
        "        elif model_type == 'sage':\n",
        "            self.conv1 = SAGEConv(input_dim, hidden_dims[0])\n",
        "            self.conv2 = SAGEConv(hidden_dims[0], hidden_dims[1])\n",
        "        elif model_type == 'sgc':\n",
        "            self.conv1 = SGConv(input_dim, hidden_dims[0])\n",
        "            self.conv2 = SGConv(hidden_dims[0], hidden_dims[1])\n",
        "        else:\n",
        "            raise ValueError(f\"Unsupported model type: {model_type}\")\n",
        "        self.fc = torch.nn.Linear(hidden_dims[1], output_dim)\n",
        "\n",
        "    def forward(self, data):\n",
        "        x, edge_index = data.x, data.edge_index\n",
        "        x = torch.relu(self.conv1(x, edge_index))\n",
        "        x = torch.relu(self.conv2(x, edge_index))\n",
        "        x = self.fc(x)\n",
        "        return torch.log_softmax(x, dim=1)\n"
      ],
      "metadata": {
        "id": "7QWWFermz6XJ"
      },
      "execution_count": null,
      "outputs": []
    },
    {
      "cell_type": "code",
      "source": [
        "from sklearn.metrics import accuracy_score\n",
        "\n",
        "def train_model(model, data, optimizer, criterion, epochs):\n",
        "    \"\"\"Train the GNN model.\"\"\"\n",
        "    model.train()\n",
        "    for epoch in range(epochs):\n",
        "        optimizer.zero_grad()\n",
        "        out = model(data)\n",
        "        loss = criterion(out[data.train_mask], data.y[data.train_mask])\n",
        "        loss.backward()\n",
        "        optimizer.step()\n",
        "\n",
        "def test_model(model, data):\n",
        "    \"\"\"Evaluate the model's accuracy on the test set.\"\"\"\n",
        "    model.eval()\n",
        "    out = model(data)\n",
        "    pred = out.argmax(dim=1)\n",
        "    acc = accuracy_score(data.y[data.test_mask].cpu(), pred[data.test_mask].cpu())\n",
        "    return acc\n"
      ],
      "metadata": {
        "id": "ZaGITD_F0Jjh"
      },
      "execution_count": null,
      "outputs": []
    },
    {
      "cell_type": "code",
      "source": [
        "from sklearn.ensemble import RandomForestClassifier\n",
        "from sklearn.metrics import accuracy_score, confusion_matrix\n",
        "\n",
        "def evaluate_classifier(target_model, shadow_model, data):\n",
        "    \"\"\"Train and evaluate the ownership verification classifier.\"\"\"\n",
        "    target_model.eval()\n",
        "    shadow_model.eval()\n",
        "\n",
        "    target_embeddings = target_model(data).detach().cpu().numpy()\n",
        "    shadow_embeddings = shadow_model(data).detach().cpu().numpy()\n",
        "\n",
        "    X = np.vstack([target_embeddings, shadow_embeddings])\n",
        "    y = np.array([1] * len(target_embeddings) + [0] * len(shadow_embeddings))  # 1 = Extracted, 0 = Independent\n",
        "\n",
        "    # Split data for training and testing\n",
        "    from sklearn.model_selection import train_test_split\n",
        "    X_train, X_test, y_train, y_test = train_test_split(X, y, test_size=0.2, random_state=42)\n",
        "\n",
        "    # Train ownership classifier\n",
        "    clf = RandomForestClassifier()\n",
        "    clf.fit(X_train, y_train)\n",
        "\n",
        "    # Evaluate classifier\n",
        "    y_pred = clf.predict(X_test)\n",
        "    acc = accuracy_score(y_test, y_pred)\n",
        "\n",
        "    # Confusion Matrix\n",
        "    tn, fp, fn, tp = confusion_matrix(y_test, y_pred).ravel()\n",
        "    fpr = fp / (fp + tn) if (fp + tn) > 0 else 0\n",
        "    fnr = fn / (fn + tp) if (fn + tp) > 0 else 0\n",
        "\n",
        "    return acc, fpr, fnr\n"
      ],
      "metadata": {
        "id": "OjbVicFG0TK2"
      },
      "execution_count": null,
      "outputs": []
    },
    {
      "cell_type": "code",
      "source": [
        "from torch_geometric.datasets import Planetoid\n",
        "\n",
        "# Load Dataset\n",
        "dataset = Planetoid(root='./data', name=config['dataset'])\n",
        "data = dataset[0].to(config['device'])\n",
        "\n",
        "# Apply Feature Masking\n",
        "data = mask_features(data, config['mask_ratio'])\n",
        "\n",
        "# Evaluate with Multiple GNN Architectures\n",
        "architectures = ['gcn', 'gin', 'gat', 'sage', 'sgc']\n",
        "results = {}\n",
        "\n",
        "for arch in architectures:\n",
        "    print(f\"Evaluating {arch.upper()} Model\")\n",
        "\n",
        "    # Initialize Models\n",
        "    target_model = GNNModel(dataset.num_features, config['hidden_dims'], dataset.num_classes, arch).to(config['device'])\n",
        "    shadow_model = GNNModel(dataset.num_features, config['hidden_dims'], dataset.num_classes, arch).to(config['device'])\n",
        "\n",
        "    # Train Models\n",
        "    optimizer = torch.optim.Adam(target_model.parameters(), lr=config['learning_rate'])\n",
        "    criterion = torch.nn.NLLLoss()\n",
        "\n",
        "    train_model(target_model, data, optimizer, criterion, config['epochs'])\n",
        "    train_model(shadow_model, data, optimizer, criterion, config['epochs'])\n",
        "\n",
        "    # Test Target Model\n",
        "    test_accuracy = test_model(target_model, data)\n",
        "    print(f\"Target Model Test Accuracy ({arch.upper()}): {test_accuracy:.4f}\")\n",
        "\n",
        "    # Evaluate Ownership Classifier\n",
        "    acc, fpr, fnr = evaluate_classifier(target_model, shadow_model, data)\n",
        "    print(f\"Ownership Classifier Accuracy: {acc:.4f}, FPR: {fpr:.4f}, FNR: {fnr:.4f}\")\n",
        "\n",
        "    results[arch] = {\n",
        "        'test_accuracy': test_accuracy,\n",
        "        'ownership_accuracy': acc,\n",
        "        'fpr': fpr,\n",
        "        'fnr': fnr\n",
        "    }\n",
        "\n",
        "# Display Results\n",
        "print(\"\\nFinal Results Across Architectures:\")\n",
        "for arch, metrics in results.items():\n",
        "    print(f\"{arch.upper()} - Test Accuracy: {metrics['test_accuracy']:.4f}, Ownership Accuracy: {metrics['ownership_accuracy']:.4f}, FPR: {metrics['fpr']:.4f}, FNR: {metrics['fnr']:.4f}\")\n"
      ],
      "metadata": {
        "colab": {
          "base_uri": "https://localhost:8080/"
        },
        "id": "Eevqr7_J0pVr",
        "outputId": "22e9be4e-ee6d-4e94-9ab6-f0c7d7bee8cd"
      },
      "execution_count": null,
      "outputs": [
        {
          "output_type": "stream",
          "name": "stderr",
          "text": [
            "Downloading https://github.com/kimiyoung/planetoid/raw/master/data/ind.citeseer.x\n",
            "Downloading https://github.com/kimiyoung/planetoid/raw/master/data/ind.citeseer.tx\n",
            "Downloading https://github.com/kimiyoung/planetoid/raw/master/data/ind.citeseer.allx\n",
            "Downloading https://github.com/kimiyoung/planetoid/raw/master/data/ind.citeseer.y\n",
            "Downloading https://github.com/kimiyoung/planetoid/raw/master/data/ind.citeseer.ty\n",
            "Downloading https://github.com/kimiyoung/planetoid/raw/master/data/ind.citeseer.ally\n",
            "Downloading https://github.com/kimiyoung/planetoid/raw/master/data/ind.citeseer.graph\n",
            "Downloading https://github.com/kimiyoung/planetoid/raw/master/data/ind.citeseer.test.index\n",
            "Processing...\n",
            "Done!\n"
          ]
        },
        {
          "output_type": "stream",
          "name": "stdout",
          "text": [
            "Evaluating GCN Model\n",
            "Target Model Test Accuracy (GCN): 0.6280\n",
            "Ownership Classifier Accuracy: 1.0000, FPR: 0.0000, FNR: 0.0000\n",
            "Evaluating GIN Model\n",
            "Target Model Test Accuracy (GIN): 0.5880\n",
            "Ownership Classifier Accuracy: 0.9970, FPR: 0.0030, FNR: 0.0030\n",
            "Evaluating GAT Model\n",
            "Target Model Test Accuracy (GAT): 0.5910\n",
            "Ownership Classifier Accuracy: 1.0000, FPR: 0.0000, FNR: 0.0000\n",
            "Evaluating SAGE Model\n",
            "Target Model Test Accuracy (SAGE): 0.6040\n",
            "Ownership Classifier Accuracy: 1.0000, FPR: 0.0000, FNR: 0.0000\n",
            "Evaluating SGC Model\n",
            "Target Model Test Accuracy (SGC): 0.6010\n",
            "Ownership Classifier Accuracy: 1.0000, FPR: 0.0000, FNR: 0.0000\n",
            "\n",
            "Final Results Across Architectures:\n",
            "GCN - Test Accuracy: 0.6280, Ownership Accuracy: 1.0000, FPR: 0.0000, FNR: 0.0000\n",
            "GIN - Test Accuracy: 0.5880, Ownership Accuracy: 0.9970, FPR: 0.0030, FNR: 0.0030\n",
            "GAT - Test Accuracy: 0.5910, Ownership Accuracy: 1.0000, FPR: 0.0000, FNR: 0.0000\n",
            "SAGE - Test Accuracy: 0.6040, Ownership Accuracy: 1.0000, FPR: 0.0000, FNR: 0.0000\n",
            "SGC - Test Accuracy: 0.6010, Ownership Accuracy: 1.0000, FPR: 0.0000, FNR: 0.0000\n"
          ]
        }
      ]
    },
    {
      "cell_type": "code",
      "source": [],
      "metadata": {
        "id": "RMBElQjN0sqJ"
      },
      "execution_count": null,
      "outputs": []
    }
  ]
}