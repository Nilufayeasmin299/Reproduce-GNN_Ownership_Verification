{
  "nbformat": 4,
  "nbformat_minor": 0,
  "metadata": {
    "colab": {
      "provenance": [],
      "gpuType": "T4",
      "authorship_tag": "ABX9TyM/mgrP3VlsyZ4gcEHO6m0H",
      "include_colab_link": true
    },
    "kernelspec": {
      "name": "python3",
      "display_name": "Python 3"
    },
    "language_info": {
      "name": "python"
    },
    "accelerator": "GPU"
  },
  "cells": [
    {
      "cell_type": "markdown",
      "metadata": {
        "id": "view-in-github",
        "colab_type": "text"
      },
      "source": [
        "<a href=\"https://colab.research.google.com/github/Nilufayeasmin299/Reproduce-GNN_Ownership_Verification/blob/main/Revisiting_Blackbox.ipynb\" target=\"_parent\"><img src=\"https://colab.research.google.com/assets/colab-badge.svg\" alt=\"Open In Colab\"/></a>"
      ]
    },
    {
      "cell_type": "code",
      "source": [
        "!git clone https://github.com/rkzhou/GNN_OwnVer.git\n",
        "%cd GNN_OwnVer\n"
      ],
      "metadata": {
        "colab": {
          "base_uri": "https://localhost:8080/"
        },
        "id": "0WDsxM3v36QY",
        "outputId": "f671957e-8f3a-4adf-e4fe-cd3e4a11c36b"
      },
      "execution_count": null,
      "outputs": [
        {
          "output_type": "stream",
          "name": "stdout",
          "text": [
            "Cloning into 'GNN_OwnVer'...\n",
            "remote: Enumerating objects: 435, done.\u001b[K\n",
            "remote: Counting objects: 100% (40/40), done.\u001b[K\n",
            "remote: Compressing objects: 100% (38/38), done.\u001b[K\n",
            "remote: Total 435 (delta 13), reused 2 (delta 2), pack-reused 395 (from 1)\u001b[K\n",
            "Receiving objects: 100% (435/435), 1.10 MiB | 3.75 MiB/s, done.\n",
            "Resolving deltas: 100% (252/252), done.\n",
            "/content/GNN_OwnVer\n"
          ]
        }
      ]
    },
    {
      "cell_type": "code",
      "source": [
        "# Install PyTorch (check your CUDA version from https://pytorch.org/get-started/locally/)\n",
        "!pip install torch torchvision torchaudio --index-url https://download.pytorch.org/whl/cu118\n",
        "\n",
        "# Install PyTorch-Geometric dependencies\n",
        "!pip install torch-scatter torch-sparse torch-geometric -f https://data.pyg.org/whl/torch-2.0.1+cu118.html\n",
        "\n",
        "# Install additional dependencies (if any are needed)\n",
        "!pip install scikit-learn pandas matplotlib tqdm\n"
      ],
      "metadata": {
        "colab": {
          "base_uri": "https://localhost:8080/"
        },
        "id": "xWpElgnj4Fjy",
        "outputId": "8cabdacb-0661-4782-e323-06ac709f3375"
      },
      "execution_count": null,
      "outputs": [
        {
          "output_type": "stream",
          "name": "stdout",
          "text": [
            "Looking in indexes: https://download.pytorch.org/whl/cu118\n",
            "Requirement already satisfied: torch in /usr/local/lib/python3.10/dist-packages (2.5.1+cu121)\n",
            "Requirement already satisfied: torchvision in /usr/local/lib/python3.10/dist-packages (0.20.1+cu121)\n",
            "Requirement already satisfied: torchaudio in /usr/local/lib/python3.10/dist-packages (2.5.1+cu121)\n",
            "Requirement already satisfied: filelock in /usr/local/lib/python3.10/dist-packages (from torch) (3.16.1)\n",
            "Requirement already satisfied: typing-extensions>=4.8.0 in /usr/local/lib/python3.10/dist-packages (from torch) (4.12.2)\n",
            "Requirement already satisfied: networkx in /usr/local/lib/python3.10/dist-packages (from torch) (3.4.2)\n",
            "Requirement already satisfied: jinja2 in /usr/local/lib/python3.10/dist-packages (from torch) (3.1.4)\n",
            "Requirement already satisfied: fsspec in /usr/local/lib/python3.10/dist-packages (from torch) (2024.10.0)\n",
            "Requirement already satisfied: sympy==1.13.1 in /usr/local/lib/python3.10/dist-packages (from torch) (1.13.1)\n",
            "Requirement already satisfied: mpmath<1.4,>=1.1.0 in /usr/local/lib/python3.10/dist-packages (from sympy==1.13.1->torch) (1.3.0)\n",
            "Requirement already satisfied: numpy in /usr/local/lib/python3.10/dist-packages (from torchvision) (1.26.4)\n",
            "Requirement already satisfied: pillow!=8.3.*,>=5.3.0 in /usr/local/lib/python3.10/dist-packages (from torchvision) (11.0.0)\n",
            "Requirement already satisfied: MarkupSafe>=2.0 in /usr/local/lib/python3.10/dist-packages (from jinja2->torch) (3.0.2)\n",
            "Looking in links: https://data.pyg.org/whl/torch-2.0.1+cu118.html\n",
            "Collecting torch-scatter\n",
            "  Downloading https://data.pyg.org/whl/torch-2.0.0%2Bcu118/torch_scatter-2.1.2%2Bpt20cu118-cp310-cp310-linux_x86_64.whl (10.2 MB)\n",
            "\u001b[2K     \u001b[90m━━━━━━━━━━━━━━━━━━━━━━━━━━━━━━━━━━━━━━━━\u001b[0m \u001b[32m10.2/10.2 MB\u001b[0m \u001b[31m35.0 MB/s\u001b[0m eta \u001b[36m0:00:00\u001b[0m\n",
            "\u001b[?25hCollecting torch-sparse\n",
            "  Downloading https://data.pyg.org/whl/torch-2.0.0%2Bcu118/torch_sparse-0.6.18%2Bpt20cu118-cp310-cp310-linux_x86_64.whl (4.9 MB)\n",
            "\u001b[2K     \u001b[90m━━━━━━━━━━━━━━━━━━━━━━━━━━━━━━━━━━━━━━━━\u001b[0m \u001b[32m4.9/4.9 MB\u001b[0m \u001b[31m67.6 MB/s\u001b[0m eta \u001b[36m0:00:00\u001b[0m\n",
            "\u001b[?25hCollecting torch-geometric\n",
            "  Downloading torch_geometric-2.6.1-py3-none-any.whl.metadata (63 kB)\n",
            "\u001b[2K     \u001b[90m━━━━━━━━━━━━━━━━━━━━━━━━━━━━━━━━━━━━━━━━\u001b[0m \u001b[32m63.1/63.1 kB\u001b[0m \u001b[31m2.3 MB/s\u001b[0m eta \u001b[36m0:00:00\u001b[0m\n",
            "\u001b[?25hRequirement already satisfied: scipy in /usr/local/lib/python3.10/dist-packages (from torch-sparse) (1.13.1)\n",
            "Requirement already satisfied: aiohttp in /usr/local/lib/python3.10/dist-packages (from torch-geometric) (3.11.2)\n",
            "Requirement already satisfied: fsspec in /usr/local/lib/python3.10/dist-packages (from torch-geometric) (2024.10.0)\n",
            "Requirement already satisfied: jinja2 in /usr/local/lib/python3.10/dist-packages (from torch-geometric) (3.1.4)\n",
            "Requirement already satisfied: numpy in /usr/local/lib/python3.10/dist-packages (from torch-geometric) (1.26.4)\n",
            "Requirement already satisfied: psutil>=5.8.0 in /usr/local/lib/python3.10/dist-packages (from torch-geometric) (5.9.5)\n",
            "Requirement already satisfied: pyparsing in /usr/local/lib/python3.10/dist-packages (from torch-geometric) (3.2.0)\n",
            "Requirement already satisfied: requests in /usr/local/lib/python3.10/dist-packages (from torch-geometric) (2.32.3)\n",
            "Requirement already satisfied: tqdm in /usr/local/lib/python3.10/dist-packages (from torch-geometric) (4.66.6)\n",
            "Requirement already satisfied: aiohappyeyeballs>=2.3.0 in /usr/local/lib/python3.10/dist-packages (from aiohttp->torch-geometric) (2.4.3)\n",
            "Requirement already satisfied: aiosignal>=1.1.2 in /usr/local/lib/python3.10/dist-packages (from aiohttp->torch-geometric) (1.3.1)\n",
            "Requirement already satisfied: attrs>=17.3.0 in /usr/local/lib/python3.10/dist-packages (from aiohttp->torch-geometric) (24.2.0)\n",
            "Requirement already satisfied: frozenlist>=1.1.1 in /usr/local/lib/python3.10/dist-packages (from aiohttp->torch-geometric) (1.5.0)\n",
            "Requirement already satisfied: multidict<7.0,>=4.5 in /usr/local/lib/python3.10/dist-packages (from aiohttp->torch-geometric) (6.1.0)\n",
            "Requirement already satisfied: propcache>=0.2.0 in /usr/local/lib/python3.10/dist-packages (from aiohttp->torch-geometric) (0.2.0)\n",
            "Requirement already satisfied: yarl<2.0,>=1.17.0 in /usr/local/lib/python3.10/dist-packages (from aiohttp->torch-geometric) (1.17.2)\n",
            "Requirement already satisfied: async-timeout<6.0,>=4.0 in /usr/local/lib/python3.10/dist-packages (from aiohttp->torch-geometric) (4.0.3)\n",
            "Requirement already satisfied: MarkupSafe>=2.0 in /usr/local/lib/python3.10/dist-packages (from jinja2->torch-geometric) (3.0.2)\n",
            "Requirement already satisfied: charset-normalizer<4,>=2 in /usr/local/lib/python3.10/dist-packages (from requests->torch-geometric) (3.4.0)\n",
            "Requirement already satisfied: idna<4,>=2.5 in /usr/local/lib/python3.10/dist-packages (from requests->torch-geometric) (3.10)\n",
            "Requirement already satisfied: urllib3<3,>=1.21.1 in /usr/local/lib/python3.10/dist-packages (from requests->torch-geometric) (2.2.3)\n",
            "Requirement already satisfied: certifi>=2017.4.17 in /usr/local/lib/python3.10/dist-packages (from requests->torch-geometric) (2024.8.30)\n",
            "Requirement already satisfied: typing-extensions>=4.1.0 in /usr/local/lib/python3.10/dist-packages (from multidict<7.0,>=4.5->aiohttp->torch-geometric) (4.12.2)\n",
            "Downloading torch_geometric-2.6.1-py3-none-any.whl (1.1 MB)\n",
            "\u001b[2K   \u001b[90m━━━━━━━━━━━━━━━━━━━━━━━━━━━━━━━━━━━━━━━━\u001b[0m \u001b[32m1.1/1.1 MB\u001b[0m \u001b[31m28.4 MB/s\u001b[0m eta \u001b[36m0:00:00\u001b[0m\n",
            "\u001b[?25hInstalling collected packages: torch-scatter, torch-sparse, torch-geometric\n",
            "Successfully installed torch-geometric-2.6.1 torch-scatter-2.1.2+pt20cu118 torch-sparse-0.6.18+pt20cu118\n",
            "Requirement already satisfied: scikit-learn in /usr/local/lib/python3.10/dist-packages (1.5.2)\n",
            "Requirement already satisfied: pandas in /usr/local/lib/python3.10/dist-packages (2.2.2)\n",
            "Requirement already satisfied: matplotlib in /usr/local/lib/python3.10/dist-packages (3.8.0)\n",
            "Requirement already satisfied: tqdm in /usr/local/lib/python3.10/dist-packages (4.66.6)\n",
            "Requirement already satisfied: numpy>=1.19.5 in /usr/local/lib/python3.10/dist-packages (from scikit-learn) (1.26.4)\n",
            "Requirement already satisfied: scipy>=1.6.0 in /usr/local/lib/python3.10/dist-packages (from scikit-learn) (1.13.1)\n",
            "Requirement already satisfied: joblib>=1.2.0 in /usr/local/lib/python3.10/dist-packages (from scikit-learn) (1.4.2)\n",
            "Requirement already satisfied: threadpoolctl>=3.1.0 in /usr/local/lib/python3.10/dist-packages (from scikit-learn) (3.5.0)\n",
            "Requirement already satisfied: python-dateutil>=2.8.2 in /usr/local/lib/python3.10/dist-packages (from pandas) (2.8.2)\n",
            "Requirement already satisfied: pytz>=2020.1 in /usr/local/lib/python3.10/dist-packages (from pandas) (2024.2)\n",
            "Requirement already satisfied: tzdata>=2022.7 in /usr/local/lib/python3.10/dist-packages (from pandas) (2024.2)\n",
            "Requirement already satisfied: contourpy>=1.0.1 in /usr/local/lib/python3.10/dist-packages (from matplotlib) (1.3.1)\n",
            "Requirement already satisfied: cycler>=0.10 in /usr/local/lib/python3.10/dist-packages (from matplotlib) (0.12.1)\n",
            "Requirement already satisfied: fonttools>=4.22.0 in /usr/local/lib/python3.10/dist-packages (from matplotlib) (4.55.0)\n",
            "Requirement already satisfied: kiwisolver>=1.0.1 in /usr/local/lib/python3.10/dist-packages (from matplotlib) (1.4.7)\n",
            "Requirement already satisfied: packaging>=20.0 in /usr/local/lib/python3.10/dist-packages (from matplotlib) (24.2)\n",
            "Requirement already satisfied: pillow>=6.2.0 in /usr/local/lib/python3.10/dist-packages (from matplotlib) (11.0.0)\n",
            "Requirement already satisfied: pyparsing>=2.3.1 in /usr/local/lib/python3.10/dist-packages (from matplotlib) (3.2.0)\n",
            "Requirement already satisfied: six>=1.5 in /usr/local/lib/python3.10/dist-packages (from python-dateutil>=2.8.2->pandas) (1.16.0)\n"
          ]
        }
      ]
    },
    {
      "cell_type": "code",
      "source": [
        "import torch\n",
        "print(\"GPU available:\", torch.cuda.is_available())\n",
        "print(\"Device:\", torch.cuda.get_device_name(0))\n"
      ],
      "metadata": {
        "colab": {
          "base_uri": "https://localhost:8080/"
        },
        "id": "WP-C7hFL4JRp",
        "outputId": "93508104-f54d-4867-f02d-3485ba56e8fa"
      },
      "execution_count": null,
      "outputs": [
        {
          "output_type": "stream",
          "name": "stdout",
          "text": [
            "GPU available: True\n",
            "Device: Tesla T4\n"
          ]
        }
      ]
    },
    {
      "cell_type": "code",
      "source": [
        "!ls\n"
      ],
      "metadata": {
        "colab": {
          "base_uri": "https://localhost:8080/"
        },
        "id": "QOJC_IhP4TMI",
        "outputId": "2fbeae31-eba2-42ae-f361-01412ba1a034"
      },
      "execution_count": null,
      "outputs": [
        {
          "output_type": "stream",
          "name": "stdout",
          "text": [
            "config\tmain  model  README.md\tutils\n"
          ]
        }
      ]
    },
    {
      "cell_type": "code",
      "source": [
        "from torch_geometric.datasets import Planetoid\n",
        "\n",
        "# Load the Cora dataset\n",
        "dataset = Planetoid(root='data/', name='Cora')\n",
        "data = dataset[0]\n",
        "print(data)\n"
      ],
      "metadata": {
        "colab": {
          "base_uri": "https://localhost:8080/"
        },
        "id": "kQo-tN2N4aOq",
        "outputId": "df006b9e-213d-43f0-9df5-5f689b8f0f93"
      },
      "execution_count": null,
      "outputs": [
        {
          "output_type": "stream",
          "name": "stderr",
          "text": [
            "/usr/local/lib/python3.10/dist-packages/torch_geometric/typing.py:86: UserWarning: An issue occurred while importing 'torch-scatter'. Disabling its usage. Stacktrace: /usr/local/lib/python3.10/dist-packages/torch_scatter/_version_cuda.so: undefined symbol: _ZN3c1017RegisterOperatorsD1Ev\n",
            "  warnings.warn(f\"An issue occurred while importing 'torch-scatter'. \"\n",
            "/usr/local/lib/python3.10/dist-packages/torch_geometric/typing.py:124: UserWarning: An issue occurred while importing 'torch-sparse'. Disabling its usage. Stacktrace: /usr/local/lib/python3.10/dist-packages/torch_sparse/_version_cuda.so: undefined symbol: _ZN3c1017RegisterOperatorsD1Ev\n",
            "  warnings.warn(f\"An issue occurred while importing 'torch-sparse'. \"\n",
            "Downloading https://github.com/kimiyoung/planetoid/raw/master/data/ind.cora.x\n",
            "Downloading https://github.com/kimiyoung/planetoid/raw/master/data/ind.cora.tx\n",
            "Downloading https://github.com/kimiyoung/planetoid/raw/master/data/ind.cora.allx\n",
            "Downloading https://github.com/kimiyoung/planetoid/raw/master/data/ind.cora.y\n",
            "Downloading https://github.com/kimiyoung/planetoid/raw/master/data/ind.cora.ty\n",
            "Downloading https://github.com/kimiyoung/planetoid/raw/master/data/ind.cora.ally\n",
            "Downloading https://github.com/kimiyoung/planetoid/raw/master/data/ind.cora.graph\n",
            "Downloading https://github.com/kimiyoung/planetoid/raw/master/data/ind.cora.test.index\n",
            "Processing...\n"
          ]
        },
        {
          "output_type": "stream",
          "name": "stdout",
          "text": [
            "Data(x=[2708, 1433], edge_index=[2, 10556], y=[2708], train_mask=[2708], val_mask=[2708], test_mask=[2708])\n"
          ]
        },
        {
          "output_type": "stream",
          "name": "stderr",
          "text": [
            "Done!\n"
          ]
        }
      ]
    },
    {
      "cell_type": "code",
      "source": [
        "from torch_geometric.nn import GCNConv\n",
        "import torch.nn.functional as F\n",
        "import torch\n",
        "\n",
        "class GCN(torch.nn.Module):\n",
        "    def __init__(self, in_channels, out_channels):\n",
        "        super(GCN, self).__init__()\n",
        "        self.conv1 = GCNConv(in_channels, 16)\n",
        "        self.conv2 = GCNConv(16, out_channels)\n",
        "\n",
        "    def forward(self, data):\n",
        "        x, edge_index = data.x, data.edge_index\n",
        "        x = self.conv1(x, edge_index).relu()\n",
        "        x = self.conv2(x, edge_index)\n",
        "        return F.log_softmax(x, dim=1)\n",
        "\n",
        "# Load data to GPU\n",
        "device = torch.device('cuda' if torch.cuda.is_available() else 'cpu')\n",
        "model = GCN(dataset.num_node_features, dataset.num_classes).to(device)\n",
        "data = data.to(device)\n",
        "\n",
        "# Training setup\n",
        "optimizer = torch.optim.Adam(model.parameters(), lr=0.01)\n",
        "\n",
        "for epoch in range(100):\n",
        "    model.train()\n",
        "    optimizer.zero_grad()\n",
        "    out = model(data)\n",
        "    loss = F.nll_loss(out[data.train_mask], data.y[data.train_mask])\n",
        "    loss.backward()\n",
        "    optimizer.step()\n",
        "    print(f'Epoch {epoch+1}, Loss: {loss.item()}')\n"
      ],
      "metadata": {
        "colab": {
          "base_uri": "https://localhost:8080/"
        },
        "id": "JsSEaK1o4des",
        "outputId": "f0fa84b1-abe1-4624-d004-29f7666f609e"
      },
      "execution_count": null,
      "outputs": [
        {
          "output_type": "stream",
          "name": "stdout",
          "text": [
            "Epoch 1, Loss: 1.9403363466262817\n",
            "Epoch 2, Loss: 1.8325576782226562\n",
            "Epoch 3, Loss: 1.6998648643493652\n",
            "Epoch 4, Loss: 1.5655665397644043\n",
            "Epoch 5, Loss: 1.4439955949783325\n",
            "Epoch 6, Loss: 1.3191763162612915\n",
            "Epoch 7, Loss: 1.1970280408859253\n",
            "Epoch 8, Loss: 1.081295132637024\n",
            "Epoch 9, Loss: 0.9693129658699036\n",
            "Epoch 10, Loss: 0.8604828715324402\n",
            "Epoch 11, Loss: 0.7556288838386536\n",
            "Epoch 12, Loss: 0.6567628383636475\n",
            "Epoch 13, Loss: 0.5651360154151917\n",
            "Epoch 14, Loss: 0.48133358359336853\n",
            "Epoch 15, Loss: 0.4061400592327118\n",
            "Epoch 16, Loss: 0.3400634825229645\n",
            "Epoch 17, Loss: 0.28329381346702576\n",
            "Epoch 18, Loss: 0.23557956516742706\n",
            "Epoch 19, Loss: 0.19605179131031036\n",
            "Epoch 20, Loss: 0.16354717314243317\n",
            "Epoch 21, Loss: 0.13692758977413177\n",
            "Epoch 22, Loss: 0.11513674259185791\n",
            "Epoch 23, Loss: 0.09725823253393173\n",
            "Epoch 24, Loss: 0.08255264163017273\n",
            "Epoch 25, Loss: 0.0703980103135109\n",
            "Epoch 26, Loss: 0.06027870997786522\n",
            "Epoch 27, Loss: 0.051813866943120956\n",
            "Epoch 28, Loss: 0.04470890760421753\n",
            "Epoch 29, Loss: 0.03873874247074127\n",
            "Epoch 30, Loss: 0.03370576351881027\n",
            "Epoch 31, Loss: 0.029466301202774048\n",
            "Epoch 32, Loss: 0.02589063160121441\n",
            "Epoch 33, Loss: 0.022867020219564438\n",
            "Epoch 34, Loss: 0.020307006314396858\n",
            "Epoch 35, Loss: 0.018133720383048058\n",
            "Epoch 36, Loss: 0.016283079981803894\n",
            "Epoch 37, Loss: 0.014701245352625847\n",
            "Epoch 38, Loss: 0.013343620114028454\n",
            "Epoch 39, Loss: 0.012172169983386993\n",
            "Epoch 40, Loss: 0.011155832558870316\n",
            "Epoch 41, Loss: 0.010269605554640293\n",
            "Epoch 42, Loss: 0.009492999874055386\n",
            "Epoch 43, Loss: 0.008809891529381275\n",
            "Epoch 44, Loss: 0.008207365870475769\n",
            "Epoch 45, Loss: 0.007673956453800201\n",
            "Epoch 46, Loss: 0.007200013846158981\n",
            "Epoch 47, Loss: 0.006777597591280937\n",
            "Epoch 48, Loss: 0.00639999657869339\n",
            "Epoch 49, Loss: 0.006061372812837362\n",
            "Epoch 50, Loss: 0.005757293663918972\n",
            "Epoch 51, Loss: 0.005483107641339302\n",
            "Epoch 52, Loss: 0.005235481075942516\n",
            "Epoch 53, Loss: 0.005012256093323231\n",
            "Epoch 54, Loss: 0.004809317644685507\n",
            "Epoch 55, Loss: 0.0046242643147706985\n",
            "Epoch 56, Loss: 0.004455018322914839\n",
            "Epoch 57, Loss: 0.004299901891499758\n",
            "Epoch 58, Loss: 0.004157263319939375\n",
            "Epoch 59, Loss: 0.004025805275887251\n",
            "Epoch 60, Loss: 0.0039042767602950335\n",
            "Epoch 61, Loss: 0.00379161536693573\n",
            "Epoch 62, Loss: 0.0036869486793875694\n",
            "Epoch 63, Loss: 0.003589468775317073\n",
            "Epoch 64, Loss: 0.003498427104204893\n",
            "Epoch 65, Loss: 0.0034132155124098063\n",
            "Epoch 66, Loss: 0.0033333601895719767\n",
            "Epoch 67, Loss: 0.0032584089785814285\n",
            "Epoch 68, Loss: 0.0031878133304417133\n",
            "Epoch 69, Loss: 0.0031212042085826397\n",
            "Epoch 70, Loss: 0.003058256581425667\n",
            "Epoch 71, Loss: 0.002998597687110305\n",
            "Epoch 72, Loss: 0.002941934624686837\n",
            "Epoch 73, Loss: 0.0028880939353257418\n",
            "Epoch 74, Loss: 0.0028368167113512754\n",
            "Epoch 75, Loss: 0.002787867560982704\n",
            "Epoch 76, Loss: 0.0027410683687776327\n",
            "Epoch 77, Loss: 0.002696247072890401\n",
            "Epoch 78, Loss: 0.00265330052934587\n",
            "Epoch 79, Loss: 0.0026120368856936693\n",
            "Epoch 80, Loss: 0.0025723897852003574\n",
            "Epoch 81, Loss: 0.0025341829750686884\n",
            "Epoch 82, Loss: 0.0024973279796540737\n",
            "Epoch 83, Loss: 0.002461722819134593\n",
            "Epoch 84, Loss: 0.0024273062590509653\n",
            "Epoch 85, Loss: 0.0023939756210893393\n",
            "Epoch 86, Loss: 0.0023616584949195385\n",
            "Epoch 87, Loss: 0.002330304589122534\n",
            "Epoch 88, Loss: 0.002299850108101964\n",
            "Epoch 89, Loss: 0.002270227763801813\n",
            "Epoch 90, Loss: 0.0022414003033190966\n",
            "Epoch 91, Loss: 0.002213357947766781\n",
            "Epoch 92, Loss: 0.002186012454330921\n",
            "Epoch 93, Loss: 0.0021593417041003704\n",
            "Epoch 94, Loss: 0.0021333317272365093\n",
            "Epoch 95, Loss: 0.00210791383869946\n",
            "Epoch 96, Loss: 0.002083092462271452\n",
            "Epoch 97, Loss: 0.0020588221959769726\n",
            "Epoch 98, Loss: 0.0020351181738078594\n",
            "Epoch 99, Loss: 0.0020119287073612213\n",
            "Epoch 100, Loss: 0.0019892302807420492\n"
          ]
        }
      ]
    },
    {
      "cell_type": "code",
      "source": [
        "\n",
        "def mask_features(data, mask_ratio=0.1):\n",
        "    # Ensure the mask is created on the same device as data.x\n",
        "    mask = (torch.rand(data.x.shape, device=data.x.device) > mask_ratio)\n",
        "    data.x = data.x * mask\n",
        "    return data\n",
        "\n",
        "# Apply masking to the dataset\n",
        "data = mask_features(data)\n",
        "\n",
        "\n"
      ],
      "metadata": {
        "id": "OpObT3YL4oMp"
      },
      "execution_count": null,
      "outputs": []
    },
    {
      "cell_type": "code",
      "source": [
        "from sklearn.neural_network import MLPClassifier\n",
        "\n",
        "# Example data for verification classifier\n",
        "features = torch.rand(100, 16).numpy()  # Placeholder features\n",
        "labels = torch.randint(0, 2, (100,)).numpy()  # Placeholder labels\n",
        "\n",
        "# Train verification classifier\n",
        "clf = MLPClassifier(hidden_layer_sizes=(128, 64), activation='relu')\n",
        "clf.fit(features, labels)\n",
        "\n",
        "print(\"Verification accuracy:\", clf.score(features, labels))\n"
      ],
      "metadata": {
        "colab": {
          "base_uri": "https://localhost:8080/"
        },
        "id": "FTcOY5ez4uSE",
        "outputId": "a1d38d69-1c25-4983-dc22-9e078eaf0951"
      },
      "execution_count": null,
      "outputs": [
        {
          "output_type": "stream",
          "name": "stdout",
          "text": [
            "Verification accuracy: 1.0\n"
          ]
        },
        {
          "output_type": "stream",
          "name": "stderr",
          "text": [
            "/usr/local/lib/python3.10/dist-packages/sklearn/neural_network/_multilayer_perceptron.py:690: ConvergenceWarning: Stochastic Optimizer: Maximum iterations (200) reached and the optimization hasn't converged yet.\n",
            "  warnings.warn(\n"
          ]
        }
      ]
    },
    {
      "cell_type": "code",
      "source": [
        "# Save model\n",
        "torch.save(model.state_dict(), 'gcn_model.pth')\n",
        "\n",
        "# Load model\n",
        "model.load_state_dict(torch.load('gcn_model.pth'))\n"
      ],
      "metadata": {
        "colab": {
          "base_uri": "https://localhost:8080/"
        },
        "id": "DanYZVai7Dc0",
        "outputId": "ba52874f-b29c-4a4e-e110-381be4f251d8"
      },
      "execution_count": null,
      "outputs": [
        {
          "output_type": "stream",
          "name": "stderr",
          "text": [
            "<ipython-input-13-02b96214445d>:5: FutureWarning: You are using `torch.load` with `weights_only=False` (the current default value), which uses the default pickle module implicitly. It is possible to construct malicious pickle data which will execute arbitrary code during unpickling (See https://github.com/pytorch/pytorch/blob/main/SECURITY.md#untrusted-models for more details). In a future release, the default value for `weights_only` will be flipped to `True`. This limits the functions that could be executed during unpickling. Arbitrary objects will no longer be allowed to be loaded via this mode unless they are explicitly allowlisted by the user via `torch.serialization.add_safe_globals`. We recommend you start setting `weights_only=True` for any use case where you don't have full control of the loaded file. Please open an issue on GitHub for any issues related to this experimental feature.\n",
            "  model.load_state_dict(torch.load('gcn_model.pth'))\n"
          ]
        },
        {
          "output_type": "execute_result",
          "data": {
            "text/plain": [
              "<All keys matched successfully>"
            ]
          },
          "metadata": {},
          "execution_count": 13
        }
      ]
    },
    {
      "cell_type": "code",
      "source": [],
      "metadata": {
        "id": "VYCVEjWl7KOK"
      },
      "execution_count": null,
      "outputs": []
    }
  ]
}