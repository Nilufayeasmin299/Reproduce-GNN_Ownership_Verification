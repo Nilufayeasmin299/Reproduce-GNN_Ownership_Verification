{
  "nbformat": 4,
  "nbformat_minor": 0,
  "metadata": {
    "colab": {
      "provenance": [],
      "gpuType": "T4",
      "authorship_tag": "ABX9TyPLcICDP4uDIX+OcLv5pNgn",
      "include_colab_link": true
    },
    "kernelspec": {
      "name": "python3",
      "display_name": "Python 3"
    },
    "language_info": {
      "name": "python"
    },
    "accelerator": "GPU"
  },
  "cells": [
    {
      "cell_type": "markdown",
      "metadata": {
        "id": "view-in-github",
        "colab_type": "text"
      },
      "source": [
        "<a href=\"https://colab.research.google.com/github/Nilufayeasmin299/Reproduce-GNN_Ownership_Verification/blob/main/Final_Version.ipynb\" target=\"_parent\"><img src=\"https://colab.research.google.com/assets/colab-badge.svg\" alt=\"Open In Colab\"/></a>"
      ]
    },
    {
      "cell_type": "code",
      "execution_count": 1,
      "metadata": {
        "colab": {
          "base_uri": "https://localhost:8080/"
        },
        "id": "mBQy6uI8Gy7v",
        "outputId": "1e9d304b-bb45-421e-a486-110d51b4c099"
      },
      "outputs": [
        {
          "output_type": "stream",
          "name": "stdout",
          "text": [
            "Requirement already satisfied: torch in /usr/local/lib/python3.10/dist-packages (2.5.1+cu121)\n",
            "Requirement already satisfied: torchvision in /usr/local/lib/python3.10/dist-packages (0.20.1+cu121)\n",
            "Requirement already satisfied: torchaudio in /usr/local/lib/python3.10/dist-packages (2.5.1+cu121)\n",
            "Requirement already satisfied: torch-geometric in /usr/local/lib/python3.10/dist-packages (2.6.1)\n",
            "Requirement already satisfied: numpy in /usr/local/lib/python3.10/dist-packages (1.26.4)\n",
            "Requirement already satisfied: scikit-learn in /usr/local/lib/python3.10/dist-packages (1.5.2)\n",
            "Requirement already satisfied: tqdm in /usr/local/lib/python3.10/dist-packages (4.66.6)\n",
            "Requirement already satisfied: matplotlib in /usr/local/lib/python3.10/dist-packages (3.8.0)\n",
            "Requirement already satisfied: filelock in /usr/local/lib/python3.10/dist-packages (from torch) (3.16.1)\n",
            "Requirement already satisfied: typing-extensions>=4.8.0 in /usr/local/lib/python3.10/dist-packages (from torch) (4.12.2)\n",
            "Requirement already satisfied: networkx in /usr/local/lib/python3.10/dist-packages (from torch) (3.4.2)\n",
            "Requirement already satisfied: jinja2 in /usr/local/lib/python3.10/dist-packages (from torch) (3.1.4)\n",
            "Requirement already satisfied: fsspec in /usr/local/lib/python3.10/dist-packages (from torch) (2024.10.0)\n",
            "Requirement already satisfied: sympy==1.13.1 in /usr/local/lib/python3.10/dist-packages (from torch) (1.13.1)\n",
            "Requirement already satisfied: mpmath<1.4,>=1.1.0 in /usr/local/lib/python3.10/dist-packages (from sympy==1.13.1->torch) (1.3.0)\n",
            "Requirement already satisfied: pillow!=8.3.*,>=5.3.0 in /usr/local/lib/python3.10/dist-packages (from torchvision) (11.0.0)\n",
            "Requirement already satisfied: aiohttp in /usr/local/lib/python3.10/dist-packages (from torch-geometric) (3.11.9)\n",
            "Requirement already satisfied: psutil>=5.8.0 in /usr/local/lib/python3.10/dist-packages (from torch-geometric) (5.9.5)\n",
            "Requirement already satisfied: pyparsing in /usr/local/lib/python3.10/dist-packages (from torch-geometric) (3.2.0)\n",
            "Requirement already satisfied: requests in /usr/local/lib/python3.10/dist-packages (from torch-geometric) (2.32.3)\n",
            "Requirement already satisfied: scipy>=1.6.0 in /usr/local/lib/python3.10/dist-packages (from scikit-learn) (1.13.1)\n",
            "Requirement already satisfied: joblib>=1.2.0 in /usr/local/lib/python3.10/dist-packages (from scikit-learn) (1.4.2)\n",
            "Requirement already satisfied: threadpoolctl>=3.1.0 in /usr/local/lib/python3.10/dist-packages (from scikit-learn) (3.5.0)\n",
            "Requirement already satisfied: contourpy>=1.0.1 in /usr/local/lib/python3.10/dist-packages (from matplotlib) (1.3.1)\n",
            "Requirement already satisfied: cycler>=0.10 in /usr/local/lib/python3.10/dist-packages (from matplotlib) (0.12.1)\n",
            "Requirement already satisfied: fonttools>=4.22.0 in /usr/local/lib/python3.10/dist-packages (from matplotlib) (4.55.1)\n",
            "Requirement already satisfied: kiwisolver>=1.0.1 in /usr/local/lib/python3.10/dist-packages (from matplotlib) (1.4.7)\n",
            "Requirement already satisfied: packaging>=20.0 in /usr/local/lib/python3.10/dist-packages (from matplotlib) (24.2)\n",
            "Requirement already satisfied: python-dateutil>=2.7 in /usr/local/lib/python3.10/dist-packages (from matplotlib) (2.8.2)\n",
            "Requirement already satisfied: six>=1.5 in /usr/local/lib/python3.10/dist-packages (from python-dateutil>=2.7->matplotlib) (1.16.0)\n",
            "Requirement already satisfied: aiohappyeyeballs>=2.3.0 in /usr/local/lib/python3.10/dist-packages (from aiohttp->torch-geometric) (2.4.4)\n",
            "Requirement already satisfied: aiosignal>=1.1.2 in /usr/local/lib/python3.10/dist-packages (from aiohttp->torch-geometric) (1.3.1)\n",
            "Requirement already satisfied: async-timeout<6.0,>=4.0 in /usr/local/lib/python3.10/dist-packages (from aiohttp->torch-geometric) (4.0.3)\n",
            "Requirement already satisfied: attrs>=17.3.0 in /usr/local/lib/python3.10/dist-packages (from aiohttp->torch-geometric) (24.2.0)\n",
            "Requirement already satisfied: frozenlist>=1.1.1 in /usr/local/lib/python3.10/dist-packages (from aiohttp->torch-geometric) (1.5.0)\n",
            "Requirement already satisfied: multidict<7.0,>=4.5 in /usr/local/lib/python3.10/dist-packages (from aiohttp->torch-geometric) (6.1.0)\n",
            "Requirement already satisfied: propcache>=0.2.0 in /usr/local/lib/python3.10/dist-packages (from aiohttp->torch-geometric) (0.2.1)\n",
            "Requirement already satisfied: yarl<2.0,>=1.17.0 in /usr/local/lib/python3.10/dist-packages (from aiohttp->torch-geometric) (1.18.3)\n",
            "Requirement already satisfied: MarkupSafe>=2.0 in /usr/local/lib/python3.10/dist-packages (from jinja2->torch) (3.0.2)\n",
            "Requirement already satisfied: charset-normalizer<4,>=2 in /usr/local/lib/python3.10/dist-packages (from requests->torch-geometric) (3.4.0)\n",
            "Requirement already satisfied: idna<4,>=2.5 in /usr/local/lib/python3.10/dist-packages (from requests->torch-geometric) (3.10)\n",
            "Requirement already satisfied: urllib3<3,>=1.21.1 in /usr/local/lib/python3.10/dist-packages (from requests->torch-geometric) (2.2.3)\n",
            "Requirement already satisfied: certifi>=2017.4.17 in /usr/local/lib/python3.10/dist-packages (from requests->torch-geometric) (2024.8.30)\n"
          ]
        }
      ],
      "source": [
        "!pip install torch torchvision torchaudio torch-geometric numpy scikit-learn tqdm matplotlib\n",
        "\n"
      ]
    },
    {
      "cell_type": "code",
      "source": [
        "# Import Libraries\n",
        "import torch\n",
        "import torch.nn.functional as F\n",
        "import torch.optim as optim\n",
        "from torch_geometric.datasets import Planetoid, Amazon\n",
        "from torch_geometric.nn import GCNConv, GATConv, SAGEConv\n",
        "from sklearn.metrics import accuracy_score, confusion_matrix\n",
        "import pandas as pd\n",
        "import numpy as np\n",
        "import random\n",
        "import matplotlib.pyplot as plt\n",
        "from tqdm import tqdm\n",
        "\n"
      ],
      "metadata": {
        "id": "P_vVpZnwy8Hi"
      },
      "execution_count": 13,
      "outputs": []
    },
    {
      "cell_type": "code",
      "source": [
        "def create_masks(data, train_ratio=0.6, val_ratio=0.2):\n",
        "    \"\"\"\n",
        "    Create train, validation, and test masks for datasets.\n",
        "    \"\"\"\n",
        "    num_nodes = data.num_nodes\n",
        "    indices = torch.randperm(num_nodes)  # Randomly shuffle nodes\n",
        "    train_size = int(train_ratio * num_nodes)\n",
        "    val_size = int(val_ratio * num_nodes)\n",
        "\n",
        "    # Initialize masks\n",
        "    data.train_mask = torch.zeros(num_nodes, dtype=torch.bool)\n",
        "    data.val_mask = torch.zeros(num_nodes, dtype=torch.bool)\n",
        "    data.test_mask = torch.zeros(num_nodes, dtype=torch.bool)\n",
        "\n",
        "    # Assign indices\n",
        "    data.train_mask[indices[:train_size]] = True\n",
        "    data.val_mask[indices[train_size:train_size + val_size]] = True\n",
        "    data.test_mask[indices[train_size + val_size:]] = True\n",
        "\n",
        "    return data\n"
      ],
      "metadata": {
        "id": "cLRh9PaT1oln"
      },
      "execution_count": 14,
      "outputs": []
    },
    {
      "cell_type": "code",
      "source": [
        "# Load Datasets\n",
        "DATASETS = {\n",
        "    'Cora': Planetoid(root='/tmp/Cora', name='Cora'),\n",
        "    'CiteSeer': Planetoid(root='/tmp/CiteSeer', name='CiteSeer'),\n",
        "    'Amazon': Amazon(root='/tmp/Amazon', name='Photo'),\n",
        "    'PubMed': Planetoid(root='/tmp/PubMed', name='PubMed')\n",
        "}\n",
        "\n",
        "# Ensure Masks Exist and Update DATASETS\n",
        "for dataset_name, dataset in DATASETS.items():\n",
        "    data = dataset[0]\n",
        "    print(f\"Dataset: {dataset_name}\")\n",
        "    if not hasattr(data, 'train_mask') or not hasattr(data, 'val_mask') or not hasattr(data, 'test_mask'):\n",
        "        print(f\"Creating masks for {dataset_name}...\")\n",
        "        data = create_masks(data)\n",
        "        # Update the dataset in DATASETS with the modified data object\n",
        "        dataset.data = data #This line is added\n",
        "        DATASETS[dataset_name] = dataset#This line is added\n",
        "    print(f\"Masks for {dataset_name}:\")\n",
        "    print(f\"Train Mask Exists: {hasattr(data, 'train_mask')}\")\n",
        "    print(f\"Validation Mask Exists: {hasattr(data, 'val_mask')}\")\n",
        "    print(f\"Test Mask Exists: {hasattr(data, 'test_mask')}\")\n"
      ],
      "metadata": {
        "colab": {
          "base_uri": "https://localhost:8080/"
        },
        "id": "0w9Mm2CA1uJw",
        "outputId": "07786177-cfdd-4e41-e3ee-a5ad10397293"
      },
      "execution_count": 15,
      "outputs": [
        {
          "output_type": "stream",
          "name": "stdout",
          "text": [
            "Dataset: Cora\n",
            "Masks for Cora:\n",
            "Train Mask Exists: True\n",
            "Validation Mask Exists: True\n",
            "Test Mask Exists: True\n",
            "Dataset: CiteSeer\n",
            "Masks for CiteSeer:\n",
            "Train Mask Exists: True\n",
            "Validation Mask Exists: True\n",
            "Test Mask Exists: True\n",
            "Dataset: Amazon\n",
            "Creating masks for Amazon...\n",
            "Masks for Amazon:\n",
            "Train Mask Exists: True\n",
            "Validation Mask Exists: True\n",
            "Test Mask Exists: True\n",
            "Dataset: PubMed\n",
            "Masks for PubMed:\n",
            "Train Mask Exists: True\n",
            "Validation Mask Exists: True\n",
            "Test Mask Exists: True\n"
          ]
        }
      ]
    },
    {
      "cell_type": "code",
      "source": [
        "class GNN(torch.nn.Module):\n",
        "    def __init__(self, in_channels, out_channels, model_type='gcn'):\n",
        "        \"\"\"\n",
        "        General GNN architecture supporting GCN, GAT, and GraphSAGE.\n",
        "        \"\"\"\n",
        "        super(GNN, self).__init__()\n",
        "        if model_type == 'gcn':\n",
        "            self.conv1 = GCNConv(in_channels, 64)\n",
        "            self.conv2 = GCNConv(64, out_channels)\n",
        "        elif model_type == 'gat':\n",
        "            self.conv1 = GATConv(in_channels, 64, heads=8, concat=True)\n",
        "            self.conv2 = GATConv(64 * 8, out_channels, heads=1, concat=False)\n",
        "        elif model_type == 'sage':\n",
        "            self.conv1 = SAGEConv(in_channels, 64)\n",
        "            self.conv2 = SAGEConv(64, out_channels)\n",
        "\n",
        "    def forward(self, data):\n",
        "        x, edge_index = data.x, data.edge_index\n",
        "        x = F.relu(self.conv1(x, edge_index))\n",
        "        x = F.dropout(x, training=self.training)\n",
        "        x = self.conv2(x, edge_index)\n",
        "        return F.log_softmax(x, dim=1)\n"
      ],
      "metadata": {
        "id": "967Pc6hh1wXs"
      },
      "execution_count": 16,
      "outputs": []
    },
    {
      "cell_type": "code",
      "source": [
        "def train_gnn(model, data, optimizer, criterion):\n",
        "    \"\"\"\n",
        "    Train a GNN model on the dataset using the given optimizer and criterion.\n",
        "    \"\"\"\n",
        "    model.train()\n",
        "    optimizer.zero_grad()\n",
        "    out = model(data)\n",
        "    loss = criterion(out[data.train_mask], data.y[data.train_mask])\n",
        "    loss.backward()\n",
        "    optimizer.step()\n",
        "    return loss.item()\n",
        "\n",
        "def evaluate_gnn(model, data):\n",
        "    \"\"\"\n",
        "    Evaluate a GNN model on the dataset.\n",
        "    \"\"\"\n",
        "    model.eval()\n",
        "    _, pred = model(data).max(dim=1)\n",
        "    true_labels = data.y[data.test_mask].cpu()\n",
        "    pred_labels = pred[data.test_mask].cpu()\n",
        "\n",
        "    # Accuracy\n",
        "    acc = accuracy_score(true_labels, pred_labels)\n",
        "\n",
        "    # Confusion Matrix\n",
        "    conf_matrix = confusion_matrix(true_labels, pred_labels)\n",
        "\n",
        "    # Class-Wise Metrics\n",
        "    fpr = 1 - np.diag(conf_matrix) / conf_matrix.sum(axis=1)\n",
        "    fnr = 1 - np.diag(conf_matrix) / conf_matrix.sum(axis=0)\n",
        "\n",
        "    # Average Metrics\n",
        "    avg_fpr = np.mean(fpr)\n",
        "    avg_fnr = np.mean(fnr)\n",
        "\n",
        "    return acc, avg_fpr, avg_fnr\n"
      ],
      "metadata": {
        "id": "u2i4jsVh1zFp"
      },
      "execution_count": 17,
      "outputs": []
    },
    {
      "cell_type": "code",
      "source": [
        "MASK_RATIOS = [0.0, 0.05, 0.1, 0.2, 0.4]\n",
        "GNN_MODELS = ['gcn', 'gat', 'sage']\n",
        "RESULTS = {}\n",
        "\n",
        "# Run Experiments\n",
        "for dataset_name, dataset in tqdm(DATASETS.items(), desc=\"Running Experiments\"):\n",
        "    data = dataset[0]\n",
        "    in_channels = data.num_features\n",
        "    out_channels = dataset.num_classes\n",
        "\n",
        "    for model_type in GNN_MODELS:\n",
        "        gnn_model = GNN(in_channels, out_channels, model_type).to('cuda' if torch.cuda.is_available() else 'cpu')\n",
        "        data = data.to('cuda' if torch.cuda.is_available() else 'cpu')\n",
        "\n",
        "        optimizer_gnn = optim.Adam(gnn_model.parameters(), lr=0.01, weight_decay=1e-4)\n",
        "        criterion_gnn = torch.nn.CrossEntropyLoss()\n",
        "\n",
        "        # Train GNN Model\n",
        "        for epoch in range(100):\n",
        "            loss = train_gnn(gnn_model, data, optimizer_gnn, criterion_gnn)\n",
        "\n",
        "        # Evaluate GNN Model\n",
        "        gnn_acc, gnn_fpr, gnn_fnr = evaluate_gnn(gnn_model, data)\n",
        "\n",
        "        # Record Results\n",
        "        RESULTS[f\"{dataset_name}_{model_type}\"] = {\n",
        "            'GNN_ACC': gnn_acc, 'GNN_FPR': gnn_fpr, 'GNN_FNR': gnn_fnr\n",
        "        }\n",
        "        print(f\"Dataset: {dataset_name} | Model: {model_type} | \"\n",
        "              f\"ACC: {gnn_acc:.4f} | FPR: {gnn_fpr:.4f} | FNR: {gnn_fnr:.4f}\")\n"
      ],
      "metadata": {
        "colab": {
          "base_uri": "https://localhost:8080/"
        },
        "id": "kEs5X_b711KB",
        "outputId": "17096bb7-87b8-49ab-bc40-a115ab468818"
      },
      "execution_count": 18,
      "outputs": [
        {
          "output_type": "stream",
          "name": "stderr",
          "text": [
            "\rRunning Experiments:   0%|          | 0/4 [00:00<?, ?it/s]"
          ]
        },
        {
          "output_type": "stream",
          "name": "stdout",
          "text": [
            "Dataset: Cora | Model: gcn | ACC: 0.7910 | FPR: 0.1864 | FNR: 0.2316\n",
            "Dataset: Cora | Model: gat | ACC: 0.7930 | FPR: 0.1835 | FNR: 0.2310\n"
          ]
        },
        {
          "output_type": "stream",
          "name": "stderr",
          "text": [
            "\rRunning Experiments:  25%|██▌       | 1/4 [00:01<00:05,  1.97s/it]"
          ]
        },
        {
          "output_type": "stream",
          "name": "stdout",
          "text": [
            "Dataset: Cora | Model: sage | ACC: 0.7620 | FPR: 0.2101 | FNR: 0.2445\n",
            "Dataset: CiteSeer | Model: gcn | ACC: 0.6810 | FPR: 0.3353 | FNR: 0.3348\n",
            "Dataset: CiteSeer | Model: gat | ACC: 0.6420 | FPR: 0.3938 | FNR: 0.3857\n"
          ]
        },
        {
          "output_type": "stream",
          "name": "stderr",
          "text": [
            "\rRunning Experiments:  50%|█████     | 2/4 [00:04<00:04,  2.04s/it]"
          ]
        },
        {
          "output_type": "stream",
          "name": "stdout",
          "text": [
            "Dataset: CiteSeer | Model: sage | ACC: 0.7020 | FPR: 0.3387 | FNR: 0.3233\n",
            "Dataset: Amazon | Model: gcn | ACC: 0.9235 | FPR: 0.1103 | FNR: 0.0715\n",
            "Dataset: Amazon | Model: gat | ACC: 0.9327 | FPR: 0.0774 | FNR: 0.0675\n"
          ]
        },
        {
          "output_type": "stream",
          "name": "stderr",
          "text": [
            "\rRunning Experiments:  75%|███████▌  | 3/4 [00:10<00:04,  4.25s/it]"
          ]
        },
        {
          "output_type": "stream",
          "name": "stdout",
          "text": [
            "Dataset: Amazon | Model: sage | ACC: 0.9229 | FPR: 0.1122 | FNR: 0.0737\n",
            "Dataset: PubMed | Model: gcn | ACC: 0.7760 | FPR: 0.2198 | FNR: 0.2303\n",
            "Dataset: PubMed | Model: gat | ACC: 0.7670 | FPR: 0.2478 | FNR: 0.2364\n"
          ]
        },
        {
          "output_type": "stream",
          "name": "stderr",
          "text": [
            "Running Experiments: 100%|██████████| 4/4 [00:15<00:00,  3.80s/it]"
          ]
        },
        {
          "output_type": "stream",
          "name": "stdout",
          "text": [
            "Dataset: PubMed | Model: sage | ACC: 0.7590 | FPR: 0.2417 | FNR: 0.2446\n"
          ]
        },
        {
          "output_type": "stream",
          "name": "stderr",
          "text": [
            "\n"
          ]
        }
      ]
    },
    {
      "cell_type": "code",
      "source": [
        "# Visualize Results\n",
        "result_df = pd.DataFrame.from_dict(RESULTS, orient='index')\n",
        "result_df.style.format(\"{:.4f}\")\n",
        "\n",
        "result_df.plot(kind='bar', figsize=(16, 8))\n",
        "plt.title(\"GNN Performance Metrics (ACC, FPR, FNR)\")\n",
        "plt.xlabel(\"Experiment Settings\")\n",
        "plt.ylabel(\"Metrics\")\n",
        "plt.legend([\"ACC\", \"FPR\", \"FNR\"])\n",
        "plt.show()\n"
      ],
      "metadata": {
        "colab": {
          "base_uri": "https://localhost:8080/",
          "height": 803
        },
        "id": "XAypnqw213fv",
        "outputId": "fcb1612b-51d9-4bb2-e248-4d7aab999765"
      },
      "execution_count": 19,
      "outputs": [
        {
          "output_type": "display_data",
          "data": {
            "text/plain": [
              "<Figure size 1600x800 with 1 Axes>"
            ],
            "image/png": "[encoded data removed]"
          },
          "metadata": {}
        }
      ]
    },
    {
      "cell_type": "code",
      "source": [],
      "metadata": {
        "id": "XCKM6Bxj2utX"
      },
      "execution_count": null,
      "outputs": []
    }
  ]
}